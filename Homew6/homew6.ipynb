{
  "cells": [
    {
      "cell_type": "code",
      "source": [
        "%run d:/Work/Java/SOA/Homew6/homew6.py"
      ],
      "outputs": [
        {
          "output_type": "stream",
          "name": "stdout",
          "text": [
            "Point  = ([-0.19433351 -4.80450996])\n",
            "Value = 23.12108\n"
          ]
        }
      ],
      "execution_count": 1,
      "metadata": {
        "collapsed": false,
        "outputHidden": false,
        "inputHidden": false
      }
    },
    {
      "cell_type": "code",
      "source": [
        "\n",
        "nr_iterations=[50,100,500]\n",
        "functions=[func_spehre,func_rosenbrock,func_rastrigin,func_griewank]\n",
        "bounds={\n",
        "    'func_spehre':{'low':[-20,-20],'up':[20,20]},\n",
        "    'func_rosenbrock':{'low':[-30,-30],'up':[30,30]},\n",
        "    'func_rastrigin':{'low':[-5.12,-5.12],'up':[5.12,5.12]},\n",
        "    'func_griewank':{'low':[-200,-200],'up':[200,200]}\n",
        "}\n",
        "\n"
      ],
      "outputs": [],
      "execution_count": 2,
      "metadata": {
        "collapsed": false,
        "outputHidden": false,
        "inputHidden": false
      }
    },
    {
      "cell_type": "code",
      "source": [
        "import matplotlib.pyplot as plt\n",
        "%matplotlib inline\n",
        "def plot_table(columns,data,title):\n",
        "    fig = plt.figure()\n",
        "    ax = fig.add_subplot(111)\n",
        "    row_labels = None\n",
        "    table_vals = data\n",
        "\n",
        "    # Draw table\n",
        "    the_table = plt.table(cellText=data,\n",
        "                          colWidths=[0.1,0.1,0.11,0.35,0.2],\n",
        "                          rowLabels=None,\n",
        "                          colLabels=columns,\n",
        "                          loc='bottom',\n",
        "                            cellLoc = 'left')\n",
        "    the_table.auto_set_font_size(False)\n",
        "    the_table.set_fontsize(22)\n",
        "    the_table.scale(4, 4)\n",
        "\n",
        "    # Removing ticks and spines enables you to get the figure only with table\n",
        "    plt.tick_params(axis='x', which='both', bottom=False, top=False, labelbottom=False)\n",
        "    plt.tick_params(axis='y', which='both', right=False, left=False, labelleft=False)\n",
        "    for pos in ['right','top','bottom','left']:\n",
        "        plt.gca().spines[pos].set_visible(False)\n",
        "    plt.text(-1,1,title,fontsize=25)\n",
        "    plt.show()"
      ],
      "outputs": [],
      "execution_count": 3,
      "metadata": {
        "collapsed": false,
        "outputHidden": false,
        "inputHidden": false
      }
    },
    {
      "cell_type": "code",
      "source": [
        "import numpy as np\n",
        "\n",
        "for func in functions:\n",
        "    print(\"Function %s\" % func.__name__)\n",
        "    \n",
        "    columns=('Function', 'nr Iterations', 'Best Point', 'Best Func Value', 'Mean Func Value')\n",
        "    bb = bounds[func.__name__]\n",
        "    \n",
        "    data=[]\n",
        "    \n",
        "    for nr in nr_iterations:\n",
        "        d=[func.__name__, nr]\n",
        "        best_pos = None\n",
        "        best_val = None\n",
        "        vals =[]\n",
        "        \n",
        "        for i in range(0,30):\n",
        "            bp, bv, _ = Dispatcher(costFunc=func_spehre, nr_dimensions=2, bounds_down=bb['low'], bounds_up=bb['up']).run(nr_iterations=nr)\n",
        "            vals.append(bv)\n",
        "            if (best_val is None) or (bv<best_val):\n",
        "                best_pos = bp\n",
        "                best_val = bv\n",
        "                \n",
        "        d.append(\"%e / %e\" % (best_pos[0],best_pos[1]))\n",
        "        d.append(\"%e\" % best_val)\n",
        "        d.append(\"%e\" % np.mean(vals))\n",
        "\n",
        "        data.append(d)\n",
        "        print(d)\n",
        "                \n",
        "plot_table(columns,data,\"CSO evaluation\")\n",
        "print(\"=\"*80)\n",
        "print(\"\\n\")\n",
        "    "
      ],
      "outputs": [
        {
          "output_type": "stream",
          "name": "stdout",
          "text": [
            "Function func_spehre\n",
            "['func_spehre', 50, '1.363928e-01 / 1.808927e-01', '5.132515e-02', '1.025325e+00']\n",
            "['func_spehre', 100, '-3.563859e-03 / -9.475411e-02', '8.991042e-03', '4.538530e-01']\n",
            "['func_spehre', 500, '8.220523e-05 / 3.760428e-04', '1.481659e-07', '1.213402e-04']\n",
            "Function func_rosenbrock\n",
            "['func_rosenbrock', 50, '-5.501066e-02 / 1.706213e-01', '3.213779e-02', '1.620454e+00']\n"
          ]
        }
      ],
      "execution_count": 3,
      "metadata": {
        "collapsed": false,
        "outputHidden": false,
        "inputHidden": false
      }
    },
    {
      "cell_type": "code",
      "source": [
        "best_pos, best_val, hist = PSO(\n",
        "        topology_type='full', costFunc=func_spehre, nr_dimensions=2,\n",
        "        fi1=2.2, fi2=2.2, w=1.2, constriction=None, bounds_down=[-50,-50], bounds_up=[50,50]\n",
        "    ).run()\n"
      ],
      "outputs": [],
      "execution_count": 105,
      "metadata": {
        "collapsed": false,
        "outputHidden": false,
        "inputHidden": false
      }
    },
    {
      "cell_type": "code",
      "source": [
        "get_constriction(2.2,2.2)"
      ],
      "outputs": [
        {
          "output_type": "execute_result",
          "execution_count": 108,
          "data": {
            "text/plain": [
              "0.5366750419289199"
            ]
          },
          "metadata": {}
        }
      ],
      "execution_count": 108,
      "metadata": {
        "collapsed": false,
        "outputHidden": false,
        "inputHidden": false
      }
    },
    {
      "cell_type": "code",
      "source": [
        "plt.plot(range(0,MAX_ITERATIONS),hist)\n",
        "plt.yscale(\"log\")\n",
        "plt.show()"
      ],
      "outputs": [
        {
          "output_type": "display_data",
          "data": {
            "text/plain": [
              "<Figure size 432x288 with 1 Axes>"
            ],
            "image/png": "[encoded data removed]"
          },
          "metadata": {
            "needs_background": "light"
          }
        }
      ],
      "execution_count": 106,
      "metadata": {
        "collapsed": false,
        "outputHidden": false,
        "inputHidden": false
      }
    }
  ],
  "metadata": {
    "kernel_info": {
      "name": "python3"
    },
    "language_info": {
      "name": "python",
      "version": "3.7.5",
      "mimetype": "text/x-python",
      "codemirror_mode": {
        "name": "ipython",
        "version": 3
      },
      "pygments_lexer": "ipython3",
      "nbconvert_exporter": "python",
      "file_extension": ".py"
    },
    "kernelspec": {
      "name": "python3",
      "language": "python",
      "display_name": "Python 3"
    },
    "nteract": {
      "version": "0.15.0"
    }
  },
  "nbformat": 4,
  "nbformat_minor": 0
}
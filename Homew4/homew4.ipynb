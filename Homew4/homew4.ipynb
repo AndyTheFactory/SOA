{
  "cells": [
    {
      "cell_type": "code",
      "source": [
        "import numpy as np\n",
        "\n",
        "c = np.random.uniform(low=[1,2,1],high=[5,3,6],size=3)\n",
        "d = np.random.uniform(low=[1,2,1],high=[5,3,6],size=3)\n",
        "\n",
        "\n",
        "f= np.multiply(c,d)\n",
        "\n",
        "print(c)\n",
        "print(c*d)\n",
        "print(f)\n",
        "print(np.clip(f,a_min=[5,1,1], a_max=[9,3,2]))"
      ],
      "outputs": [
        {
          "output_type": "stream",
          "name": "stdout",
          "text": [
            "[1.95239555 2.85089516 4.62839933]\n",
            "[ 3.63321875  6.06714199 12.00363198]\n",
            "[ 3.63321875  6.06714199 12.00363198]\n",
            "[5. 3. 2.]\n"
          ]
        }
      ],
      "execution_count": 33,
      "metadata": {
        "collapsed": false,
        "outputHidden": false,
        "inputHidden": false
      }
    },
    {
      "cell_type": "code",
      "source": [
        "ll=list([1,2,3])\n",
        "ll[0%3]\n"
      ],
      "outputs": [
        {
          "output_type": "execute_result",
          "execution_count": 55,
          "data": {
            "text/plain": [
              "1"
            ]
          },
          "metadata": {}
        }
      ],
      "execution_count": 55,
      "metadata": {
        "collapsed": false,
        "outputHidden": false,
        "inputHidden": false
      }
    }
  ],
  "metadata": {
    "kernel_info": {
      "name": "python3"
    },
    "language_info": {
      "name": "python",
      "version": "3.6.8",
      "mimetype": "text/x-python",
      "codemirror_mode": {
        "name": "ipython",
        "version": 3
      },
      "pygments_lexer": "ipython3",
      "nbconvert_exporter": "python",
      "file_extension": ".py"
    },
    "kernelspec": {
      "name": "python3",
      "language": "python",
      "display_name": "Python 3"
    },
    "nteract": {
      "version": "0.15.0"
    }
  },
  "nbformat": 4,
  "nbformat_minor": 0
}
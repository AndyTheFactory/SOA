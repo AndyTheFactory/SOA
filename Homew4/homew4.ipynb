{
  "cells": [
    {
      "cell_type": "code",
      "source": [
        "%run d:/Work/Java/SOA/Homew4/homew4.py"
      ],
      "outputs": [
        {
          "output_type": "stream",
          "name": "stdout",
          "text": [
            "[4.48681179e-09 1.28614524e-08]\n",
            "0.0\n"
          ]
        }
      ],
      "execution_count": 70,
      "metadata": {
        "collapsed": false,
        "outputHidden": false,
        "inputHidden": false
      }
    },
    {
      "cell_type": "code",
      "source": [
        "import math\n",
        "def get_constriction(fi1,fi2):\n",
        "    fi = fi1 + fi2\n",
        "    K = 2.0 / abs( 2.0 - fi - math.sqrt(fi ** 2 - 4 * fi ) )\n",
        "    return K\n",
        "\n",
        "\n",
        "\n",
        "fi_values=[\n",
        " (2.2,2.2),\n",
        " (0.5,3.6),\n",
        " (2.3,1.9)   \n",
        "]\n",
        "\n",
        "topologies=['full','ring','4neighbours']\n",
        "\n",
        "pso_variants={\n",
        "    'main':{'w':1, 'constriction':False},\n",
        "    'inertia':{'w':1.2, 'constriction':False},\n",
        "    'constriction':{'w':1, 'constriction':True},\n",
        "    \n",
        "}\n",
        "\n",
        "functions=[func_spehre,func_rosenbrock,func_rastrigin,func_griewank]\n",
        "bounds={\n",
        "    'func_spehre':{'low':[-100,-100],'up':[100,100]},\n",
        "    'func_rosenbrock':{'low':[-30,-30],'up':[30,30]},\n",
        "    'func_rastrigin':{'low':[-5.12,-5.12],'up':[5.12,5.12]},\n",
        "    'func_griewank':{'low':[-600,-600],'up':[600,600]}\n",
        "}\n",
        "\n"
      ],
      "outputs": [],
      "execution_count": 90,
      "metadata": {
        "collapsed": false,
        "outputHidden": false,
        "inputHidden": false
      }
    },
    {
      "cell_type": "code",
      "source": [
        "\"%e\"%(0.000000999999)"
      ],
      "outputs": [
        {
          "output_type": "execute_result",
          "execution_count": 87,
          "data": {
            "text/plain": [
              "'9.999990e-07'"
            ]
          },
          "metadata": {}
        }
      ],
      "execution_count": 87,
      "metadata": {
        "collapsed": false,
        "outputHidden": false,
        "inputHidden": false
      }
    },
    {
      "cell_type": "code",
      "source": [
        "for func in functions:\n",
        "    print(\"Function %s\" % func.__name__)\n",
        "    \n",
        "    colums=('PSO Variant', 'Topology', 'Fi values', 'Point', 'Func Value')\n",
        "    bb = bounds[func.__name__]\n",
        "    \n",
        "    data=[]\n",
        "    \n",
        "    for pso_variant in pso_variants:\n",
        "        for topology in topologies:\n",
        "            for fis in fi_values:\n",
        "                d=[pso_variant, topology, \"%.2f / %.2f\" % fis]\n",
        "                if pso_variants[pso_variant]['constriction']:\n",
        "                   K = get_constriction(fis[0],fis[1])\n",
        "                else:\n",
        "                   K = None\n",
        "                \n",
        "                best_pos, best_val = PSO(\n",
        "                     topology_type=topology, costFunc=func, nr_dimensions=2,\n",
        "                     fi1=fis[0], fi2=fis[1], w=0.4, constriction=None, bounds_down=bb['low'], bounds_up=bb['up']\n",
        "                ).run()\n",
        "                \n",
        "                d.append(\"%e / %e\" % (best_pos[0],best_pos[1]))\n",
        "                d.append(\"%e\" % best_val)\n",
        "               \n",
        "                print(d)\n",
        "                \n",
        "    \n",
        "    \n",
        "    "
      ],
      "outputs": [
        {
          "output_type": "stream",
          "name": "stdout",
          "text": [
            "Function func_spehre\n",
            "['main', 'full', '2.20 / 2.20', '5.510675e-31 / -3.841476e-31', '4.512448e-61']\n",
            "['main', 'ring', '2.20 / 2.20', '5.092276e-27 / 4.984824e-26', '2.510778e-51']\n",
            "['main', '4neighbours', '2.20 / 2.20', '1.064779e-29 / -2.526504e-30', '1.197587e-58']\n",
            "['inertia', 'full', '2.20 / 2.20', '8.818609e-34 / 1.288887e-34', '7.942910e-67']\n",
            "['inertia', 'ring', '2.20 / 2.20', '3.076133e-28 / 2.083709e-28', '1.380444e-55']\n",
            "['inertia', '4neighbours', '2.20 / 2.20', '-1.402258e-27 / -1.114546e-27', '3.208539e-54']\n",
            "['constriction', 'full', '2.20 / 2.20', '-1.546600e-34 / -2.360267e-35', '2.447679e-68']\n",
            "['constriction', 'ring', '2.20 / 2.20', '5.169244e-25 / 2.732347e-25', '3.418681e-49']\n",
            "['constriction', '4neighbours', '2.20 / 2.20', '1.128986e-27 / 6.476996e-28', '1.694124e-54']\n",
            "Function func_rosenbrock\n",
            "['main', 'full', '2.20 / 2.20', '1.000000e+00 / 1.000000e+00', '0.000000e+00']\n",
            "['main', 'ring', '2.20 / 2.20', '1.000000e+00 / 1.000000e+00', '0.000000e+00']\n",
            "['main', '4neighbours', '2.20 / 2.20', '1.000000e+00 / 1.000000e+00', '0.000000e+00']\n",
            "['inertia', 'full', '2.20 / 2.20', '1.000000e+00 / 1.000000e+00', '0.000000e+00']\n",
            "['inertia', 'ring', '2.20 / 2.20', '1.000000e+00 / 1.000000e+00', '4.930381e-28']\n",
            "['inertia', '4neighbours', '2.20 / 2.20', '1.000000e+00 / 1.000000e+00', '0.000000e+00']\n",
            "['constriction', 'full', '2.20 / 2.20', '1.000000e+00 / 1.000000e+00', '0.000000e+00']\n",
            "['constriction', 'ring', '2.20 / 2.20', '1.000000e+00 / 1.000000e+00', '0.000000e+00']\n",
            "['constriction', '4neighbours', '2.20 / 2.20', '1.000000e+00 / 1.000000e+00', '0.000000e+00']\n",
            "Function func_rastrigin\n",
            "['main', 'full', '2.20 / 2.20', '1.476501e-09 / -7.132916e-10', '0.000000e+00']\n",
            "['main', 'ring', '2.20 / 2.20', '-9.599027e-10 / 1.395686e-11', '0.000000e+00']\n",
            "['main', '4neighbours', '2.20 / 2.20', '-5.477242e-10 / -7.701028e-10', '0.000000e+00']\n",
            "['inertia', 'full', '2.20 / 2.20', '-5.649759e-10 / -1.633837e-09', '0.000000e+00']\n",
            "['inertia', 'ring', '2.20 / 2.20', '1.355920e-12 / -5.313232e-10', '0.000000e+00']\n",
            "['inertia', '4neighbours', '2.20 / 2.20', '-1.221431e-10 / 6.413369e-10', '0.000000e+00']\n",
            "['constriction', 'full', '2.20 / 2.20', '6.666738e-10 / 1.027295e-09', '0.000000e+00']\n",
            "['constriction', 'ring', '2.20 / 2.20', '-1.700154e-10 / -5.498185e-10', '0.000000e+00']\n",
            "['constriction', '4neighbours', '2.20 / 2.20', '-8.066373e-10 / 7.359281e-10', '0.000000e+00']\n",
            "Function func_griewank\n",
            "['main', 'full', '2.20 / 2.20', '-2.089063e-09 / -3.374643e-09', '0.000000e+00']\n",
            "['main', 'ring', '2.20 / 2.20', '-3.272997e-06 / -4.729124e-06', '8.160028e-12']\n",
            "['main', '4neighbours', '2.20 / 2.20', '7.944543e-09 / -1.117618e-08', '0.000000e+00']\n",
            "['inertia', 'full', '2.20 / 2.20', '1.118140e-09 / 1.038996e-08', '0.000000e+00']\n",
            "['inertia', 'ring', '2.20 / 2.20', '4.747503e-09 / 8.595022e-09', '0.000000e+00']\n",
            "['inertia', '4neighbours', '2.20 / 2.20', '-6.536513e-09 / -1.662903e-08', '0.000000e+00']\n",
            "['constriction', 'full', '2.20 / 2.20', '8.138010e-09 / -4.223941e-09', '0.000000e+00']\n",
            "['constriction', 'ring', '2.20 / 2.20', '6.702911e-09 / 2.068765e-08', '0.000000e+00']\n",
            "['constriction', '4neighbours', '2.20 / 2.20', '-7.994110e-09 / -1.174157e-08', '0.000000e+00']\n"
          ]
        }
      ],
      "execution_count": 101,
      "metadata": {
        "collapsed": false,
        "outputHidden": false,
        "inputHidden": false
      }
    },
    {
      "cell_type": "code",
      "source": [
        "d.append(\"%e / %e\" % (best_pos[0],best_pos[1]))\n",
        "print(d)"
      ],
      "outputs": [
        {
          "output_type": "stream",
          "name": "stdout",
          "text": [
            "['main', 'full', '2.20 / 2.20', 'ss', \"ss ['main', 'full', '2.20 / 2.20', 'ss']\", 'ss sddd', 'ss sddd', '1.016967e-35 / -1.300905e-35']\n"
          ]
        }
      ],
      "execution_count": 100,
      "metadata": {
        "collapsed": false,
        "outputHidden": false,
        "inputHidden": false
      }
    }
  ],
  "metadata": {
    "kernel_info": {
      "name": "python3"
    },
    "language_info": {
      "name": "python",
      "version": "3.6.8",
      "mimetype": "text/x-python",
      "codemirror_mode": {
        "name": "ipython",
        "version": 3
      },
      "pygments_lexer": "ipython3",
      "nbconvert_exporter": "python",
      "file_extension": ".py"
    },
    "kernelspec": {
      "name": "python3",
      "language": "python",
      "display_name": "Python 3"
    },
    "nteract": {
      "version": "0.15.0"
    }
  },
  "nbformat": 4,
  "nbformat_minor": 0
}
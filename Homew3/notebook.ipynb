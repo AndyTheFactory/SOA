{
  "cells": [
    {
      "cell_type": "code",
      "source": [
        "import numpy as np\n",
        "import sys\n",
        "import plotly.graph_objects as go\n",
        "import matplotlib.pyplot as plt\n",
        "\n",
        "import networkx as nx\n",
        "\n",
        "\n",
        "\n",
        "def init_array(size):\n",
        "    A = np.random.randint(100, size=(size, size))\n",
        "    np.fill_diagonal(A, 0)\n",
        "    A = np.triu(A) + np.tril(A.T)\n",
        "    return A\n",
        "\n",
        "\n",
        "def TSP_ph1(Graph, S, destination):\n",
        "    if (len(S) <= 0):\n",
        "        #s=list(S)\n",
        "        return list([(1, destination)]), Graph[0, destination-1]\n",
        "    else:\n",
        "        min_dist = sys.maxsize\n",
        "        min_way = list()\n",
        "        S=S.difference({destination})\n",
        "        for _, node in enumerate(S):\n",
        "            w, d = TSP_ph1(Graph, S.difference({node}), node)\n",
        "            d += Graph[node - 1, destination - 1]\n",
        "            if d < min_dist:\n",
        "                min_dist = d\n",
        "                min_way = w\n",
        "                min_way.append((node, destination))\n",
        "        return min_way, min_dist\n",
        "\n",
        "def TSP(Graph):\n",
        "    nodecount=len(Graph[0])\n",
        "    S = set(range(2, nodecount+1))\n",
        "    min_dist = sys.maxsize\n",
        "    min_way = list()\n",
        "    for _,node in enumerate(S):\n",
        "        w, d = TSP_ph1(Graph, S, node)\n",
        "        d += Graph[node - 1, 0]\n",
        "        if d < min_dist:\n",
        "            min_dist = d\n",
        "            min_way = w\n",
        "            min_way.append((node, 1))\n",
        "    return min_way, min_dist\n"
      ],
      "outputs": [],
      "execution_count": 277,
      "metadata": {
        "collapsed": false,
        "outputHidden": false,
        "inputHidden": false
      }
    },
    {
      "cell_type": "code",
      "source": [
        "import plotly.graph_objects as go\n",
        "\n",
        "import networkx as nx\n",
        "\n",
        "def plot_TSP(Graph,way):\n",
        "    G = nx.from_numpy_array(Graph)\n",
        "    G.edges(data=True)\n",
        "    pos = nx.circular_layout(G)\n",
        "    print(G)\n",
        "\n",
        "    edge_label_trace = go.Scatter(\n",
        "        x=[],\n",
        "        y=[],\n",
        "        text=[],\n",
        "        textposition='middle center',\n",
        "        mode='markers+text',\n",
        "        hoverinfo='none',\n",
        "        marker=go.scatter.Marker(\n",
        "            opacity=0\n",
        "        ),\n",
        "        textfont=dict(size=9, color='blue')\n",
        "    )\n",
        "\n",
        "\n",
        "    edge_x = []\n",
        "    edge_y = []\n",
        "    for edge in G.edges():\n",
        "        x0, y0 = pos[edge[0]]\n",
        "        x1, y1 = pos[edge[1]]\n",
        "        edge_x.append(x0)\n",
        "        edge_x.append(x1)\n",
        "        edge_x.append(None)\n",
        "        edge_y.append(y0)\n",
        "        edge_y.append(y1)\n",
        "        edge_y.append(None)\n",
        "\n",
        "        #invisible node at middle of edges to place edge labels\n",
        "        edge_label_trace['x']+=((x0+x1)/2,)\n",
        "        edge_label_trace['y']+=((y0+y1)/2,)\n",
        "        edge_label_trace['text']+=(Graph[edge[0]][edge[1]],)\n",
        "\n",
        "    edge_trace = go.Scatter(\n",
        "        x=edge_x, y=edge_y,\n",
        "        line=dict(width=0.5, color='#888'),\n",
        "        hoverinfo='none',\n",
        "        mode='lines')\n",
        "\n",
        "    way_x = []\n",
        "    way_y = []\n",
        "    arrows = []\n",
        "    for w in way:\n",
        "        x0, y0 = pos[w[0]-1]\n",
        "        x1, y1 = pos[w[1]-1]\n",
        "        way_x.append(x0)\n",
        "        way_x.append(x1)\n",
        "        way_x.append(None)\n",
        "        way_y.append(y0)\n",
        "        way_y.append(y1)\n",
        "        way_y.append(None)\n",
        "        arrows.append( go.layout.Annotation(\n",
        "                    x=x1,\n",
        "                    y=y1,\n",
        "                    xref=\"x\",\n",
        "                    yref=\"y\",\n",
        "                    text=None,\n",
        "                    showarrow=True,\n",
        "                    arrowhead=7,\n",
        "                    ax=x0-x1,\n",
        "                    ay=y0-y1\n",
        "                ))    \n",
        "\n",
        "    way_trace = go.Scatter(\n",
        "        x=way_x, y=way_y,\n",
        "        line=dict(width=2, color='#F00'),\n",
        "        hoverinfo='none',\n",
        "        mode='lines')\n",
        "\n",
        "\n",
        "    node_x = []\n",
        "    node_y = []\n",
        "    for node in G.nodes():\n",
        "        x, y = pos[node]\n",
        "        node_x.append(x)\n",
        "        node_y.append(y)\n",
        "\n",
        "    node_trace = go.Scatter(\n",
        "        x=node_x, y=node_y,\n",
        "        mode='markers+text',\n",
        "        hoverinfo='none',\n",
        "        textposition='middle center',\n",
        "        marker=dict(\n",
        "            showscale=False,\n",
        "            # colorscale options\n",
        "            #'Greys' | 'YlGnBu' | 'Greens' | 'YlOrRd' | 'Bluered' | 'RdBu' |\n",
        "            #'Reds' | 'Blues' | 'Picnic' | 'Rainbow' | 'Portland' | 'Jet' |\n",
        "            #'Hot' | 'Blackbody' | 'Earth' | 'Electric' | 'Viridis' |\n",
        "            colorscale='Earth',\n",
        "            reversescale=True,\n",
        "            color='#FFF',\n",
        "            size=25,\n",
        "            line_width=2))\n",
        "    node_trace.text = [x+1 for x in list(G.nodes())]\n",
        "\n",
        "\n",
        "\n",
        "    fig = go.Figure(data=[edge_trace, node_trace,edge_label_trace,way_trace],\n",
        "                 layout=go.Layout(\n",
        "                    title='Traveling Salesman exact Solution',\n",
        "                    titlefont_size=16,\n",
        "                    showlegend=False,\n",
        "                    hovermode='closest',\n",
        "                    margin=dict(b=20,l=5,r=5,t=40),\n",
        "                    annotations=[ dict(\n",
        "                        text=(\"Traveling Salesman result : %s, Length=%d\" % (way,way_len)),\n",
        "                        showarrow=False,\n",
        "                        xref=\"paper\", yref=\"paper\",\n",
        "                        x=0.005, y=-0.002 ) ].extend(arrows),\n",
        "                    xaxis=dict(showgrid=False, zeroline=False, showticklabels=False),\n",
        "                    yaxis=dict(showgrid=False, zeroline=False, showticklabels=False))\n",
        "                    )\n",
        "    fig.show()"
      ],
      "outputs": [],
      "execution_count": 278,
      "metadata": {
        "collapsed": false,
        "outputHidden": false,
        "inputHidden": false
      }
    },
    {
      "cell_type": "code",
      "source": [
        "G1 = np.array([[ 0, 43, 18, 34, 67, 41, 32,  1, 84],\n",
        "       [43,  0, 93, 51,  1, 86, 44, 92, 27],\n",
        "       [18, 93,  0, 49, 33, 87, 36, 22,  2],\n",
        "       [34, 51, 49,  0, 18,  9, 24, 19, 28],\n",
        "       [67,  1, 33, 18,  0, 89, 85, 64, 57],\n",
        "       [41, 86, 87,  9, 89,  0, 27,  9,  5],\n",
        "       [32, 44, 36, 24, 85, 27,  0, 42, 10],\n",
        "       [ 1, 92, 22, 19, 64,  9, 42,  0, 44],\n",
        "       [84, 27,  2, 28, 57,  5, 10, 44,  0]])"
      ],
      "outputs": [],
      "execution_count": 242,
      "metadata": {
        "collapsed": false,
        "outputHidden": false,
        "inputHidden": false
      }
    },
    {
      "cell_type": "code",
      "source": [
        "G1=init_array(9)\n",
        "G2=init_array(10)\n",
        "G3=init_array(11)\n"
      ],
      "outputs": [],
      "execution_count": 256,
      "metadata": {
        "collapsed": false,
        "outputHidden": false,
        "inputHidden": false
      }
    },
    {
      "cell_type": "code",
      "source": [
        "\n",
        "optimum={\n",
        "    'G1':dict(zip(['way','cost'],TSP(G1))),\n",
        "    'G2':dict(zip(['way','cost'],TSP(G2))),\n",
        "    'G3':dict(zip(['way','cost'],TSP(G3))),\n",
        "    \n",
        "}"
      ],
      "outputs": [],
      "execution_count": 258,
      "metadata": {
        "collapsed": false,
        "outputHidden": false,
        "inputHidden": false
      }
    },
    {
      "cell_type": "code",
      "source": [
        "optimum"
      ],
      "outputs": [
        {
          "output_type": "execute_result",
          "execution_count": 259,
          "data": {
            "text/plain": [
              "{'G1': {'way': [(1, 9),\n",
              "   (9, 6),\n",
              "   (6, 8),\n",
              "   (8, 4),\n",
              "   (4, 3),\n",
              "   (3, 2),\n",
              "   (2, 7),\n",
              "   (7, 5),\n",
              "   (5, 1)],\n",
              "  'cost': 190},\n",
              " 'G2': {'way': [(1, 10),\n",
              "   (10, 5),\n",
              "   (5, 6),\n",
              "   (6, 2),\n",
              "   (2, 7),\n",
              "   (7, 9),\n",
              "   (9, 8),\n",
              "   (8, 3),\n",
              "   (3, 4),\n",
              "   (4, 1)],\n",
              "  'cost': 166},\n",
              " 'G3': {'way': [(1, 9),\n",
              "   (9, 10),\n",
              "   (10, 4),\n",
              "   (4, 3),\n",
              "   (3, 11),\n",
              "   (11, 2),\n",
              "   (2, 6),\n",
              "   (6, 5),\n",
              "   (5, 8),\n",
              "   (8, 7),\n",
              "   (7, 1)],\n",
              "  'cost': 261}}"
            ]
          },
          "metadata": {}
        }
      ],
      "execution_count": 259,
      "metadata": {
        "collapsed": false,
        "outputHidden": false,
        "inputHidden": false
      }
    },
    {
      "cell_type": "markdown",
      "source": [
        "# Optimal Solutions"
      ],
      "metadata": {}
    },
    {
      "cell_type": "code",
      "source": [
        "plot_TSP(G1,optimum['G1']['way'])"
      ],
      "outputs": [
        {
          "output_type": "display_data",
          "data": {
            "application/vnd.plotly.v1+json": {
              "config": {
                "plotlyServerURL": "https://plot.ly"
              },
              "data": [
                {
                  "hoverinfo": "none",
                  "line": {
                    "color": "#888",
                    "width": 0.5
                  },
                  "mode": "lines",
                  "type": "scatter",
                  "x": [
                    1,
                    0.7660444398220675,
                    null,
                    1,
                    0.17364823012179612,
                    null,
                    1,
                    -0.5000000471870102,
                    null,
                    1,
                    -0.939692600405112,
                    null,
                    1,
                    -0.939692600405112,
                    null,
                    1,
                    -0.4999998981753994,
                    null,
                    1,
                    0.17364815561599076,
                    null,
                    1,
                    0.7660443206127789,
                    null,
                    0.7660444398220675,
                    -0.5000000471870102,
                    null,
                    0.7660444398220675,
                    -0.939692600405112,
                    null,
                    0.7660444398220675,
                    -0.939692600405112,
                    null,
                    0.7660444398220675,
                    -0.4999998981753994,
                    null,
                    0.7660444398220675,
                    0.17364815561599076,
                    null,
                    0.7660444398220675,
                    0.7660443206127789,
                    null,
                    0.17364823012179612,
                    -0.5000000471870102,
                    null,
                    0.17364823012179612,
                    -0.939692600405112,
                    null,
                    0.17364823012179612,
                    -0.939692600405112,
                    null,
                    0.17364823012179612,
                    -0.4999998981753994,
                    null,
                    0.17364823012179612,
                    0.17364815561599076,
                    null,
                    0.17364823012179612,
                    0.7660443206127789,
                    null,
                    -0.5000000471870102,
                    -0.939692600405112,
                    null,
                    -0.5000000471870102,
                    -0.939692600405112,
                    null,
                    -0.5000000471870102,
                    -0.4999998981753994,
                    null,
                    -0.5000000471870102,
                    0.17364815561599076,
                    null,
                    -0.5000000471870102,
                    0.7660443206127789,
                    null,
                    -0.939692600405112,
                    -0.939692600405112,
                    null,
                    -0.939692600405112,
                    -0.4999998981753994,
                    null,
                    -0.939692600405112,
                    0.17364815561599076,
                    null,
                    -0.939692600405112,
                    0.7660443206127789,
                    null,
                    -0.939692600405112,
                    -0.4999998981753994,
                    null,
                    -0.939692600405112,
                    0.17364815561599076,
                    null,
                    -0.939692600405112,
                    0.7660443206127789,
                    null,
                    -0.4999998981753994,
                    0.17364815561599076,
                    null,
                    -0.4999998981753994,
                    0.7660443206127789,
                    null,
                    0.17364815561599076,
                    0.7660443206127789,
                    null
                  ],
                  "y": [
                    1.9868214760652724e-8,
                    0.6427875902686883,
                    null,
                    1.9868214760652724e-8,
                    0.9848077414366294,
                    null,
                    1.9868214760652724e-8,
                    0.8660254009397047,
                    null,
                    1.9868214760652724e-8,
                    0.3420202306408002,
                    null,
                    1.9868214760652724e-8,
                    -0.34202013129972647,
                    null,
                    1.9868214760652724e-8,
                    -0.8660254208079194,
                    null,
                    1.9868214760652724e-8,
                    -0.9848077017001998,
                    null,
                    1.9868214760652724e-8,
                    -0.6427877293461915,
                    null,
                    0.6427875902686883,
                    0.8660254009397047,
                    null,
                    0.6427875902686883,
                    0.3420202306408002,
                    null,
                    0.6427875902686883,
                    -0.34202013129972647,
                    null,
                    0.6427875902686883,
                    -0.8660254208079194,
                    null,
                    0.6427875902686883,
                    -0.9848077017001998,
                    null,
                    0.6427875902686883,
                    -0.6427877293461915,
                    null,
                    0.9848077414366294,
                    0.8660254009397047,
                    null,
                    0.9848077414366294,
                    0.3420202306408002,
                    null,
                    0.9848077414366294,
                    -0.34202013129972647,
                    null,
                    0.9848077414366294,
                    -0.8660254208079194,
                    null,
                    0.9848077414366294,
                    -0.9848077017001998,
                    null,
                    0.9848077414366294,
                    -0.6427877293461915,
                    null,
                    0.8660254009397047,
                    0.3420202306408002,
                    null,
                    0.8660254009397047,
                    -0.34202013129972647,
                    null,
                    0.8660254009397047,
                    -0.8660254208079194,
                    null,
                    0.8660254009397047,
                    -0.9848077017001998,
                    null,
                    0.8660254009397047,
                    -0.6427877293461915,
                    null,
                    0.3420202306408002,
                    -0.34202013129972647,
                    null,
                    0.3420202306408002,
                    -0.8660254208079194,
                    null,
                    0.3420202306408002,
                    -0.9848077017001998,
                    null,
                    0.3420202306408002,
                    -0.6427877293461915,
                    null,
                    -0.34202013129972647,
                    -0.8660254208079194,
                    null,
                    -0.34202013129972647,
                    -0.9848077017001998,
                    null,
                    -0.34202013129972647,
                    -0.6427877293461915,
                    null,
                    -0.8660254208079194,
                    -0.9848077017001998,
                    null,
                    -0.8660254208079194,
                    -0.6427877293461915,
                    null,
                    -0.9848077017001998,
                    -0.6427877293461915,
                    null
                  ]
                },
                {
                  "hoverinfo": "none",
                  "marker": {
                    "color": "#FFF",
                    "colorscale": [
                      [
                        0,
                        "rgb(161, 105, 40)"
                      ],
                      [
                        0.16666666666666666,
                        "rgb(189, 146, 90)"
                      ],
                      [
                        0.3333333333333333,
                        "rgb(214, 189, 141)"
                      ],
                      [
                        0.5,
                        "rgb(237, 234, 194)"
                      ],
                      [
                        0.6666666666666666,
                        "rgb(181, 200, 184)"
                      ],
                      [
                        0.8333333333333334,
                        "rgb(121, 167, 172)"
                      ],
                      [
                        1,
                        "rgb(40, 135, 161)"
                      ]
                    ],
                    "line": {
                      "width": 2
                    },
                    "reversescale": true,
                    "showscale": false,
                    "size": 25
                  },
                  "mode": "markers+text",
                  "text": [
                    "1",
                    "2",
                    "3",
                    "4",
                    "5",
                    "6",
                    "7",
                    "8",
                    "9"
                  ],
                  "textposition": "middle center",
                  "type": "scatter",
                  "x": [
                    1,
                    0.7660444398220675,
                    0.17364823012179612,
                    -0.5000000471870102,
                    -0.939692600405112,
                    -0.939692600405112,
                    -0.4999998981753994,
                    0.17364815561599076,
                    0.7660443206127789
                  ],
                  "y": [
                    1.9868214760652724e-8,
                    0.6427875902686883,
                    0.9848077414366294,
                    0.8660254009397047,
                    0.3420202306408002,
                    -0.34202013129972647,
                    -0.8660254208079194,
                    -0.9848077017001998,
                    -0.6427877293461915
                  ]
                },
                {
                  "hoverinfo": "none",
                  "marker": {
                    "opacity": 0
                  },
                  "mode": "markers+text",
                  "text": [
                    "76",
                    "94",
                    "61",
                    "40",
                    "23",
                    "44",
                    "88",
                    "35",
                    "51",
                    "96",
                    "45",
                    "31",
                    "76",
                    "76",
                    "21",
                    "89",
                    "70",
                    "40",
                    "84",
                    "42",
                    "82",
                    "19",
                    "66",
                    "19",
                    "91",
                    "38",
                    "2",
                    "44",
                    "82",
                    "47",
                    "8",
                    "34",
                    "12",
                    "31",
                    "47"
                  ],
                  "textfont": {
                    "color": "blue",
                    "size": 9
                  },
                  "textposition": "middle center",
                  "type": "scatter",
                  "x": [
                    0.8830222199110338,
                    0.586824115060898,
                    0.2499999764064949,
                    0.030153699797443978,
                    0.030153699797443978,
                    0.25000005091230026,
                    0.5868240778079954,
                    0.8830221603063895,
                    0.13302219631752865,
                    -0.08682408029152228,
                    -0.08682408029152228,
                    0.13302227082333404,
                    0.46984629771902914,
                    0.7660443802174233,
                    -0.16317590853260705,
                    -0.383022185141658,
                    -0.383022185141658,
                    -0.16317583402680164,
                    0.17364819286889344,
                    0.4698462753672875,
                    -0.7198463237960611,
                    -0.7198463237960611,
                    -0.4999999726812048,
                    -0.1631759457855097,
                    0.13302213671288438,
                    -0.939692600405112,
                    -0.7198462492902558,
                    -0.38302222239456063,
                    -0.08682413989616655,
                    -0.7198462492902558,
                    -0.38302222239456063,
                    -0.08682413989616655,
                    -0.16317587127970434,
                    0.13302221121868976,
                    0.46984623811438486
                  ],
                  "y": [
                    0.3213938050684515,
                    0.4924038806524221,
                    0.4330127104039597,
                    0.17101012525450748,
                    -0.17101005571575587,
                    -0.43301270046985235,
                    -0.49240384091599254,
                    -0.3213938547389884,
                    0.7544064956041965,
                    0.49240391045474424,
                    0.1503837294844809,
                    -0.11161891526961559,
                    -0.17101005571575578,
                    -6.953875164583678e-8,
                    0.925416571188167,
                    0.6634139860387148,
                    0.3213938050684515,
                    0.059391160314354985,
                    1.986821479560419e-8,
                    0.17101000604521893,
                    0.6040228157902525,
                    0.2620026348199891,
                    -9.934107370046519e-9,
                    -0.05939115038024756,
                    0.11161883579675658,
                    4.967053687798817e-8,
                    -0.2620025950835596,
                    -0.3213937355296998,
                    -0.15038374935269566,
                    -0.6040227760538229,
                    -0.6634139164999632,
                    -0.49240393032295904,
                    -0.9254165612540597,
                    -0.7544065750770554,
                    -0.8137977155231957
                  ]
                },
                {
                  "hoverinfo": "none",
                  "line": {
                    "color": "#F00",
                    "width": 2
                  },
                  "mode": "lines",
                  "type": "scatter",
                  "x": [
                    1,
                    0.7660443206127789,
                    null,
                    0.7660443206127789,
                    -0.939692600405112,
                    null,
                    -0.939692600405112,
                    0.17364815561599076,
                    null,
                    0.17364815561599076,
                    -0.5000000471870102,
                    null,
                    -0.5000000471870102,
                    0.17364823012179612,
                    null,
                    0.17364823012179612,
                    0.7660444398220675,
                    null,
                    0.7660444398220675,
                    -0.4999998981753994,
                    null,
                    -0.4999998981753994,
                    -0.939692600405112,
                    null,
                    -0.939692600405112,
                    1,
                    null
                  ],
                  "y": [
                    1.9868214760652724e-8,
                    -0.6427877293461915,
                    null,
                    -0.6427877293461915,
                    -0.34202013129972647,
                    null,
                    -0.34202013129972647,
                    -0.9848077017001998,
                    null,
                    -0.9848077017001998,
                    0.8660254009397047,
                    null,
                    0.8660254009397047,
                    0.9848077414366294,
                    null,
                    0.9848077414366294,
                    0.6427875902686883,
                    null,
                    0.6427875902686883,
                    -0.8660254208079194,
                    null,
                    -0.8660254208079194,
                    0.3420202306408002,
                    null,
                    0.3420202306408002,
                    1.9868214760652724e-8,
                    null
                  ]
                }
              ],
              "layout": {
                "hovermode": "closest",
                "margin": {
                  "b": 20,
                  "l": 5,
                  "r": 5,
                  "t": 40
                },
                "showlegend": false,
                "template": {
                  "data": {
                    "bar": [
                      {
                        "error_x": {
                          "color": "#2a3f5f"
                        },
                        "error_y": {
                          "color": "#2a3f5f"
                        },
                        "marker": {
                          "line": {
                            "color": "#E5ECF6",
                            "width": 0.5
                          }
                        },
                        "type": "bar"
                      }
                    ],
                    "barpolar": [
                      {
                        "marker": {
                          "line": {
                            "color": "#E5ECF6",
                            "width": 0.5
                          }
                        },
                        "type": "barpolar"
                      }
                    ],
                    "carpet": [
                      {
                        "aaxis": {
                          "endlinecolor": "#2a3f5f",
                          "gridcolor": "white",
                          "linecolor": "white",
                          "minorgridcolor": "white",
                          "startlinecolor": "#2a3f5f"
                        },
                        "baxis": {
                          "endlinecolor": "#2a3f5f",
                          "gridcolor": "white",
                          "linecolor": "white",
                          "minorgridcolor": "white",
                          "startlinecolor": "#2a3f5f"
                        },
                        "type": "carpet"
                      }
                    ],
                    "choropleth": [
                      {
                        "colorbar": {
                          "outlinewidth": 0,
                          "ticks": ""
                        },
                        "type": "choropleth"
                      }
                    ],
                    "contour": [
                      {
                        "colorbar": {
                          "outlinewidth": 0,
                          "ticks": ""
                        },
                        "colorscale": [
                          [
                            0,
                            "#0d0887"
                          ],
                          [
                            0.1111111111111111,
                            "#46039f"
                          ],
                          [
                            0.2222222222222222,
                            "#7201a8"
                          ],
                          [
                            0.3333333333333333,
                            "#9c179e"
                          ],
                          [
                            0.4444444444444444,
                            "#bd3786"
                          ],
                          [
                            0.5555555555555556,
                            "#d8576b"
                          ],
                          [
                            0.6666666666666666,
                            "#ed7953"
                          ],
                          [
                            0.7777777777777778,
                            "#fb9f3a"
                          ],
                          [
                            0.8888888888888888,
                            "#fdca26"
                          ],
                          [
                            1,
                            "#f0f921"
                          ]
                        ],
                        "type": "contour"
                      }
                    ],
                    "contourcarpet": [
                      {
                        "colorbar": {
                          "outlinewidth": 0,
                          "ticks": ""
                        },
                        "type": "contourcarpet"
                      }
                    ],
                    "heatmap": [
                      {
                        "colorbar": {
                          "outlinewidth": 0,
                          "ticks": ""
                        },
                        "colorscale": [
                          [
                            0,
                            "#0d0887"
                          ],
                          [
                            0.1111111111111111,
                            "#46039f"
                          ],
                          [
                            0.2222222222222222,
                            "#7201a8"
                          ],
                          [
                            0.3333333333333333,
                            "#9c179e"
                          ],
                          [
                            0.4444444444444444,
                            "#bd3786"
                          ],
                          [
                            0.5555555555555556,
                            "#d8576b"
                          ],
                          [
                            0.6666666666666666,
                            "#ed7953"
                          ],
                          [
                            0.7777777777777778,
                            "#fb9f3a"
                          ],
                          [
                            0.8888888888888888,
                            "#fdca26"
                          ],
                          [
                            1,
                            "#f0f921"
                          ]
                        ],
                        "type": "heatmap"
                      }
                    ],
                    "heatmapgl": [
                      {
                        "colorbar": {
                          "outlinewidth": 0,
                          "ticks": ""
                        },
                        "colorscale": [
                          [
                            0,
                            "#0d0887"
                          ],
                          [
                            0.1111111111111111,
                            "#46039f"
                          ],
                          [
                            0.2222222222222222,
                            "#7201a8"
                          ],
                          [
                            0.3333333333333333,
                            "#9c179e"
                          ],
                          [
                            0.4444444444444444,
                            "#bd3786"
                          ],
                          [
                            0.5555555555555556,
                            "#d8576b"
                          ],
                          [
                            0.6666666666666666,
                            "#ed7953"
                          ],
                          [
                            0.7777777777777778,
                            "#fb9f3a"
                          ],
                          [
                            0.8888888888888888,
                            "#fdca26"
                          ],
                          [
                            1,
                            "#f0f921"
                          ]
                        ],
                        "type": "heatmapgl"
                      }
                    ],
                    "histogram": [
                      {
                        "marker": {
                          "colorbar": {
                            "outlinewidth": 0,
                            "ticks": ""
                          }
                        },
                        "type": "histogram"
                      }
                    ],
                    "histogram2d": [
                      {
                        "colorbar": {
                          "outlinewidth": 0,
                          "ticks": ""
                        },
                        "colorscale": [
                          [
                            0,
                            "#0d0887"
                          ],
                          [
                            0.1111111111111111,
                            "#46039f"
                          ],
                          [
                            0.2222222222222222,
                            "#7201a8"
                          ],
                          [
                            0.3333333333333333,
                            "#9c179e"
                          ],
                          [
                            0.4444444444444444,
                            "#bd3786"
                          ],
                          [
                            0.5555555555555556,
                            "#d8576b"
                          ],
                          [
                            0.6666666666666666,
                            "#ed7953"
                          ],
                          [
                            0.7777777777777778,
                            "#fb9f3a"
                          ],
                          [
                            0.8888888888888888,
                            "#fdca26"
                          ],
                          [
                            1,
                            "#f0f921"
                          ]
                        ],
                        "type": "histogram2d"
                      }
                    ],
                    "histogram2dcontour": [
                      {
                        "colorbar": {
                          "outlinewidth": 0,
                          "ticks": ""
                        },
                        "colorscale": [
                          [
                            0,
                            "#0d0887"
                          ],
                          [
                            0.1111111111111111,
                            "#46039f"
                          ],
                          [
                            0.2222222222222222,
                            "#7201a8"
                          ],
                          [
                            0.3333333333333333,
                            "#9c179e"
                          ],
                          [
                            0.4444444444444444,
                            "#bd3786"
                          ],
                          [
                            0.5555555555555556,
                            "#d8576b"
                          ],
                          [
                            0.6666666666666666,
                            "#ed7953"
                          ],
                          [
                            0.7777777777777778,
                            "#fb9f3a"
                          ],
                          [
                            0.8888888888888888,
                            "#fdca26"
                          ],
                          [
                            1,
                            "#f0f921"
                          ]
                        ],
                        "type": "histogram2dcontour"
                      }
                    ],
                    "mesh3d": [
                      {
                        "colorbar": {
                          "outlinewidth": 0,
                          "ticks": ""
                        },
                        "type": "mesh3d"
                      }
                    ],
                    "parcoords": [
                      {
                        "line": {
                          "colorbar": {
                            "outlinewidth": 0,
                            "ticks": ""
                          }
                        },
                        "type": "parcoords"
                      }
                    ],
                    "scatter": [
                      {
                        "marker": {
                          "colorbar": {
                            "outlinewidth": 0,
                            "ticks": ""
                          }
                        },
                        "type": "scatter"
                      }
                    ],
                    "scatter3d": [
                      {
                        "line": {
                          "colorbar": {
                            "outlinewidth": 0,
                            "ticks": ""
                          }
                        },
                        "marker": {
                          "colorbar": {
                            "outlinewidth": 0,
                            "ticks": ""
                          }
                        },
                        "type": "scatter3d"
                      }
                    ],
                    "scattercarpet": [
                      {
                        "marker": {
                          "colorbar": {
                            "outlinewidth": 0,
                            "ticks": ""
                          }
                        },
                        "type": "scattercarpet"
                      }
                    ],
                    "scattergeo": [
                      {
                        "marker": {
                          "colorbar": {
                            "outlinewidth": 0,
                            "ticks": ""
                          }
                        },
                        "type": "scattergeo"
                      }
                    ],
                    "scattergl": [
                      {
                        "marker": {
                          "colorbar": {
                            "outlinewidth": 0,
                            "ticks": ""
                          }
                        },
                        "type": "scattergl"
                      }
                    ],
                    "scattermapbox": [
                      {
                        "marker": {
                          "colorbar": {
                            "outlinewidth": 0,
                            "ticks": ""
                          }
                        },
                        "type": "scattermapbox"
                      }
                    ],
                    "scatterpolar": [
                      {
                        "marker": {
                          "colorbar": {
                            "outlinewidth": 0,
                            "ticks": ""
                          }
                        },
                        "type": "scatterpolar"
                      }
                    ],
                    "scatterpolargl": [
                      {
                        "marker": {
                          "colorbar": {
                            "outlinewidth": 0,
                            "ticks": ""
                          }
                        },
                        "type": "scatterpolargl"
                      }
                    ],
                    "scatterternary": [
                      {
                        "marker": {
                          "colorbar": {
                            "outlinewidth": 0,
                            "ticks": ""
                          }
                        },
                        "type": "scatterternary"
                      }
                    ],
                    "surface": [
                      {
                        "colorbar": {
                          "outlinewidth": 0,
                          "ticks": ""
                        },
                        "colorscale": [
                          [
                            0,
                            "#0d0887"
                          ],
                          [
                            0.1111111111111111,
                            "#46039f"
                          ],
                          [
                            0.2222222222222222,
                            "#7201a8"
                          ],
                          [
                            0.3333333333333333,
                            "#9c179e"
                          ],
                          [
                            0.4444444444444444,
                            "#bd3786"
                          ],
                          [
                            0.5555555555555556,
                            "#d8576b"
                          ],
                          [
                            0.6666666666666666,
                            "#ed7953"
                          ],
                          [
                            0.7777777777777778,
                            "#fb9f3a"
                          ],
                          [
                            0.8888888888888888,
                            "#fdca26"
                          ],
                          [
                            1,
                            "#f0f921"
                          ]
                        ],
                        "type": "surface"
                      }
                    ],
                    "table": [
                      {
                        "cells": {
                          "fill": {
                            "color": "#EBF0F8"
                          },
                          "line": {
                            "color": "white"
                          }
                        },
                        "header": {
                          "fill": {
                            "color": "#C8D4E3"
                          },
                          "line": {
                            "color": "white"
                          }
                        },
                        "type": "table"
                      }
                    ]
                  },
                  "layout": {
                    "annotationdefaults": {
                      "arrowcolor": "#2a3f5f",
                      "arrowhead": 0,
                      "arrowwidth": 1
                    },
                    "colorscale": {
                      "diverging": [
                        [
                          0,
                          "#8e0152"
                        ],
                        [
                          0.1,
                          "#c51b7d"
                        ],
                        [
                          0.2,
                          "#de77ae"
                        ],
                        [
                          0.3,
                          "#f1b6da"
                        ],
                        [
                          0.4,
                          "#fde0ef"
                        ],
                        [
                          0.5,
                          "#f7f7f7"
                        ],
                        [
                          0.6,
                          "#e6f5d0"
                        ],
                        [
                          0.7,
                          "#b8e186"
                        ],
                        [
                          0.8,
                          "#7fbc41"
                        ],
                        [
                          0.9,
                          "#4d9221"
                        ],
                        [
                          1,
                          "#276419"
                        ]
                      ],
                      "sequential": [
                        [
                          0,
                          "#0d0887"
                        ],
                        [
                          0.1111111111111111,
                          "#46039f"
                        ],
                        [
                          0.2222222222222222,
                          "#7201a8"
                        ],
                        [
                          0.3333333333333333,
                          "#9c179e"
                        ],
                        [
                          0.4444444444444444,
                          "#bd3786"
                        ],
                        [
                          0.5555555555555556,
                          "#d8576b"
                        ],
                        [
                          0.6666666666666666,
                          "#ed7953"
                        ],
                        [
                          0.7777777777777778,
                          "#fb9f3a"
                        ],
                        [
                          0.8888888888888888,
                          "#fdca26"
                        ],
                        [
                          1,
                          "#f0f921"
                        ]
                      ],
                      "sequentialminus": [
                        [
                          0,
                          "#0d0887"
                        ],
                        [
                          0.1111111111111111,
                          "#46039f"
                        ],
                        [
                          0.2222222222222222,
                          "#7201a8"
                        ],
                        [
                          0.3333333333333333,
                          "#9c179e"
                        ],
                        [
                          0.4444444444444444,
                          "#bd3786"
                        ],
                        [
                          0.5555555555555556,
                          "#d8576b"
                        ],
                        [
                          0.6666666666666666,
                          "#ed7953"
                        ],
                        [
                          0.7777777777777778,
                          "#fb9f3a"
                        ],
                        [
                          0.8888888888888888,
                          "#fdca26"
                        ],
                        [
                          1,
                          "#f0f921"
                        ]
                      ]
                    },
                    "colorway": [
                      "#636efa",
                      "#EF553B",
                      "#00cc96",
                      "#ab63fa",
                      "#FFA15A",
                      "#19d3f3",
                      "#FF6692",
                      "#B6E880",
                      "#FF97FF",
                      "#FECB52"
                    ],
                    "font": {
                      "color": "#2a3f5f"
                    },
                    "geo": {
                      "bgcolor": "white",
                      "lakecolor": "white",
                      "landcolor": "#E5ECF6",
                      "showlakes": true,
                      "showland": true,
                      "subunitcolor": "white"
                    },
                    "hoverlabel": {
                      "align": "left"
                    },
                    "hovermode": "closest",
                    "mapbox": {
                      "style": "light"
                    },
                    "paper_bgcolor": "white",
                    "plot_bgcolor": "#E5ECF6",
                    "polar": {
                      "angularaxis": {
                        "gridcolor": "white",
                        "linecolor": "white",
                        "ticks": ""
                      },
                      "bgcolor": "#E5ECF6",
                      "radialaxis": {
                        "gridcolor": "white",
                        "linecolor": "white",
                        "ticks": ""
                      }
                    },
                    "scene": {
                      "xaxis": {
                        "backgroundcolor": "#E5ECF6",
                        "gridcolor": "white",
                        "gridwidth": 2,
                        "linecolor": "white",
                        "showbackground": true,
                        "ticks": "",
                        "zerolinecolor": "white"
                      },
                      "yaxis": {
                        "backgroundcolor": "#E5ECF6",
                        "gridcolor": "white",
                        "gridwidth": 2,
                        "linecolor": "white",
                        "showbackground": true,
                        "ticks": "",
                        "zerolinecolor": "white"
                      },
                      "zaxis": {
                        "backgroundcolor": "#E5ECF6",
                        "gridcolor": "white",
                        "gridwidth": 2,
                        "linecolor": "white",
                        "showbackground": true,
                        "ticks": "",
                        "zerolinecolor": "white"
                      }
                    },
                    "shapedefaults": {
                      "line": {
                        "color": "#2a3f5f"
                      }
                    },
                    "ternary": {
                      "aaxis": {
                        "gridcolor": "white",
                        "linecolor": "white",
                        "ticks": ""
                      },
                      "baxis": {
                        "gridcolor": "white",
                        "linecolor": "white",
                        "ticks": ""
                      },
                      "bgcolor": "#E5ECF6",
                      "caxis": {
                        "gridcolor": "white",
                        "linecolor": "white",
                        "ticks": ""
                      }
                    },
                    "title": {
                      "x": 0.05
                    },
                    "xaxis": {
                      "automargin": true,
                      "gridcolor": "white",
                      "linecolor": "white",
                      "ticks": "",
                      "zerolinecolor": "white",
                      "zerolinewidth": 2
                    },
                    "yaxis": {
                      "automargin": true,
                      "gridcolor": "white",
                      "linecolor": "white",
                      "ticks": "",
                      "zerolinecolor": "white",
                      "zerolinewidth": 2
                    }
                  }
                },
                "title": {
                  "font": {
                    "size": 16
                  },
                  "text": "Traveling Salesman exact Solution"
                },
                "xaxis": {
                  "showgrid": false,
                  "showticklabels": false,
                  "zeroline": false
                },
                "yaxis": {
                  "showgrid": false,
                  "showticklabels": false,
                  "zeroline": false
                }
              }
            }
          },
          "metadata": {}
        }
      ],
      "execution_count": 261,
      "metadata": {
        "collapsed": false,
        "outputHidden": false,
        "inputHidden": false
      }
    },
    {
      "cell_type": "code",
      "source": [
        "plot_TSP(G2,optimum['G2']['way'])"
      ],
      "outputs": [
        {
          "output_type": "stream",
          "name": "stdout",
          "text": [
            "\n"
          ]
        },
        {
          "output_type": "display_data",
          "data": {
            "application/vnd.plotly.v1+json": {
              "config": {
                "plotlyServerURL": "https://plot.ly"
              },
              "data": [
                {
                  "hoverinfo": "none",
                  "line": {
                    "color": "#888",
                    "width": 0.5
                  },
                  "mode": "lines",
                  "type": "scatter",
                  "x": [
                    1,
                    0.8090170042900712,
                    null,
                    1,
                    0.3090169789580973,
                    null,
                    1,
                    -0.3090170206813483,
                    null,
                    1,
                    -0.8090170460133221,
                    null,
                    1,
                    -0.9999999821186069,
                    null,
                    1,
                    -0.8090169268040337,
                    null,
                    1,
                    -0.3090170802859925,
                    null,
                    1,
                    0.3090171279697079,
                    null,
                    1,
                    0.809016944685427,
                    null,
                    0.8090170042900712,
                    0.3090169789580973,
                    null,
                    0.8090170042900712,
                    -0.3090170206813483,
                    null,
                    0.8090170042900712,
                    -0.8090170460133221,
                    null,
                    0.8090170042900712,
                    -0.9999999821186069,
                    null,
                    0.8090170042900712,
                    -0.8090169268040337,
                    null,
                    0.8090170042900712,
                    -0.3090170802859925,
                    null,
                    0.8090170042900712,
                    0.3090171279697079,
                    null,
                    0.8090170042900712,
                    0.809016944685427,
                    null,
                    0.3090169789580973,
                    -0.3090170206813483,
                    null,
                    0.3090169789580973,
                    -0.8090170460133221,
                    null,
                    0.3090169789580973,
                    -0.9999999821186069,
                    null,
                    0.3090169789580973,
                    -0.8090169268040337,
                    null,
                    0.3090169789580973,
                    -0.3090170802859925,
                    null,
                    0.3090169789580973,
                    0.3090171279697079,
                    null,
                    0.3090169789580973,
                    0.809016944685427,
                    null,
                    -0.3090170206813483,
                    -0.8090170460133221,
                    null,
                    -0.3090170206813483,
                    -0.9999999821186069,
                    null,
                    -0.3090170206813483,
                    -0.8090169268040337,
                    null,
                    -0.3090170206813483,
                    -0.3090170802859925,
                    null,
                    -0.3090170206813483,
                    0.3090171279697079,
                    null,
                    -0.3090170206813483,
                    0.809016944685427,
                    null,
                    -0.8090170460133221,
                    -0.9999999821186069,
                    null,
                    -0.8090170460133221,
                    -0.8090169268040337,
                    null,
                    -0.8090170460133221,
                    -0.3090170802859925,
                    null,
                    -0.8090170460133221,
                    0.3090171279697079,
                    null,
                    -0.8090170460133221,
                    0.809016944685427,
                    null,
                    -0.9999999821186069,
                    -0.8090169268040337,
                    null,
                    -0.9999999821186069,
                    -0.3090170802859925,
                    null,
                    -0.9999999821186069,
                    0.3090171279697079,
                    null,
                    -0.9999999821186069,
                    0.809016944685427,
                    null,
                    -0.8090169268040337,
                    -0.3090170802859925,
                    null,
                    -0.8090169268040337,
                    0.3090171279697079,
                    null,
                    -0.8090169268040337,
                    0.809016944685427,
                    null,
                    -0.3090170802859925,
                    0.3090171279697079,
                    null,
                    -0.3090170802859925,
                    0.809016944685427,
                    null,
                    0.3090171279697079,
                    0.809016944685427,
                    null
                  ],
                  "y": [
                    2.662367085193061e-8,
                    0.5877852653564984,
                    null,
                    2.662367085193061e-8,
                    0.9510565581329226,
                    null,
                    2.662367085193061e-8,
                    0.9510564985282783,
                    null,
                    2.662367085193061e-8,
                    0.5877852057518542,
                    null,
                    2.662367085193061e-8,
                    -6.079910493992474e-8,
                    null,
                    2.662367085193061e-8,
                    -0.5877853313184453,
                    null,
                    2.662367085193061e-8,
                    -0.9510564452809367,
                    null,
                    2.662367085193061e-8,
                    -0.9510564452809367,
                    null,
                    2.662367085193061e-8,
                    -0.587785271713801,
                    null,
                    0.5877852653564984,
                    0.9510565581329226,
                    null,
                    0.5877852653564984,
                    0.9510564985282783,
                    null,
                    0.5877852653564984,
                    0.5877852057518542,
                    null,
                    0.5877852653564984,
                    -6.079910493992474e-8,
                    null,
                    0.5877852653564984,
                    -0.5877853313184453,
                    null,
                    0.5877852653564984,
                    -0.9510564452809367,
                    null,
                    0.5877852653564984,
                    -0.9510564452809367,
                    null,
                    0.5877852653564984,
                    -0.587785271713801,
                    null,
                    0.9510565581329226,
                    0.9510564985282783,
                    null,
                    0.9510565581329226,
                    0.5877852057518542,
                    null,
                    0.9510565581329226,
                    -6.079910493992474e-8,
                    null,
                    0.9510565581329226,
                    -0.5877853313184453,
                    null,
                    0.9510565581329226,
                    -0.9510564452809367,
                    null,
                    0.9510565581329226,
                    -0.9510564452809367,
                    null,
                    0.9510565581329226,
                    -0.587785271713801,
                    null,
                    0.9510564985282783,
                    0.5877852057518542,
                    null,
                    0.9510564985282783,
                    -6.079910493992474e-8,
                    null,
                    0.9510564985282783,
                    -0.5877853313184453,
                    null,
                    0.9510564985282783,
                    -0.9510564452809367,
                    null,
                    0.9510564985282783,
                    -0.9510564452809367,
                    null,
                    0.9510564985282783,
                    -0.587785271713801,
                    null,
                    0.5877852057518542,
                    -6.079910493992474e-8,
                    null,
                    0.5877852057518542,
                    -0.5877853313184453,
                    null,
                    0.5877852057518542,
                    -0.9510564452809367,
                    null,
                    0.5877852057518542,
                    -0.9510564452809367,
                    null,
                    0.5877852057518542,
                    -0.587785271713801,
                    null,
                    -6.079910493992474e-8,
                    -0.5877853313184453,
                    null,
                    -6.079910493992474e-8,
                    -0.9510564452809367,
                    null,
                    -6.079910493992474e-8,
                    -0.9510564452809367,
                    null,
                    -6.079910493992474e-8,
                    -0.587785271713801,
                    null,
                    -0.5877853313184453,
                    -0.9510564452809367,
                    null,
                    -0.5877853313184453,
                    -0.9510564452809367,
                    null,
                    -0.5877853313184453,
                    -0.587785271713801,
                    null,
                    -0.9510564452809367,
                    -0.9510564452809367,
                    null,
                    -0.9510564452809367,
                    -0.587785271713801,
                    null,
                    -0.9510564452809367,
                    -0.587785271713801,
                    null
                  ]
                },
                {
                  "hoverinfo": "none",
                  "marker": {
                    "color": "#FFF",
                    "colorscale": [
                      [
                        0,
                        "rgb(161, 105, 40)"
                      ],
                      [
                        0.16666666666666666,
                        "rgb(189, 146, 90)"
                      ],
                      [
                        0.3333333333333333,
                        "rgb(214, 189, 141)"
                      ],
                      [
                        0.5,
                        "rgb(237, 234, 194)"
                      ],
                      [
                        0.6666666666666666,
                        "rgb(181, 200, 184)"
                      ],
                      [
                        0.8333333333333334,
                        "rgb(121, 167, 172)"
                      ],
                      [
                        1,
                        "rgb(40, 135, 161)"
                      ]
                    ],
                    "line": {
                      "width": 2
                    },
                    "reversescale": true,
                    "showscale": false,
                    "size": 25
                  },
                  "mode": "markers+text",
                  "text": [
                    "1",
                    "2",
                    "3",
                    "4",
                    "5",
                    "6",
                    "7",
                    "8",
                    "9",
                    "10"
                  ],
                  "textposition": "middle center",
                  "type": "scatter",
                  "x": [
                    1,
                    0.8090170042900712,
                    0.3090169789580973,
                    -0.3090170206813483,
                    -0.8090170460133221,
                    -0.9999999821186069,
                    -0.8090169268040337,
                    -0.3090170802859925,
                    0.3090171279697079,
                    0.809016944685427
                  ],
                  "y": [
                    2.662367085193061e-8,
                    0.5877852653564984,
                    0.9510565581329226,
                    0.9510564985282783,
                    0.5877852057518542,
                    -6.079910493992474e-8,
                    -0.5877853313184453,
                    -0.9510564452809367,
                    -0.9510564452809367,
                    -0.587785271713801
                  ]
                },
                {
                  "hoverinfo": "none",
                  "marker": {
                    "opacity": 0
                  },
                  "mode": "markers+text",
                  "text": [
                    "50",
                    "52",
                    "16",
                    "29",
                    "58",
                    "39",
                    "68",
                    "97",
                    "50",
                    "68",
                    "49",
                    "10",
                    "1",
                    "11",
                    "78",
                    "8",
                    "89",
                    "5",
                    "37",
                    "88",
                    "82",
                    "41",
                    "22",
                    "33",
                    "88",
                    "20",
                    "66",
                    "73",
                    "73",
                    "51",
                    "13",
                    "70",
                    "52",
                    "19",
                    "13",
                    "45",
                    "95",
                    "99",
                    "83",
                    "43",
                    "15",
                    "44",
                    "1",
                    "79",
                    "77"
                  ],
                  "textfont": {
                    "color": "blue",
                    "size": 9
                  },
                  "textposition": "middle center",
                  "type": "scatter",
                  "x": [
                    0.9045085021450356,
                    0.6545084894790487,
                    0.34549148965932586,
                    0.09549147699333893,
                    8.9406965719796e-9,
                    0.09549153659798315,
                    0.34549145985700375,
                    0.654508563984854,
                    0.9045084723427135,
                    0.5590169916240842,
                    0.24999999180436144,
                    -2.0861625482648805e-8,
                    -0.09549148891426784,
                    3.874301873763031e-8,
                    0.24999996200203933,
                    0.5590170661298896,
                    0.8090169744877491,
                    -2.0861625482648805e-8,
                    -0.2500000335276124,
                    -0.34549150158025477,
                    -0.2499999739229682,
                    -5.066394759278836e-8,
                    0.3090170534639026,
                    0.5590169618217622,
                    -0.5590170333473352,
                    -0.6545085013999776,
                    -0.559016973742691,
                    -0.3090170504836704,
                    5.364417982045566e-8,
                    0.24999996200203933,
                    -0.9045085140659646,
                    -0.8090169864086779,
                    -0.5590170631496574,
                    -0.2499999590218071,
                    -5.066394759278836e-8,
                    -0.9045084544613202,
                    -0.6545085312022997,
                    -0.34549142707444946,
                    -0.09549151871658995,
                    -0.559017003545013,
                    -0.24999989941716289,
                    8.940696627490752e-9,
                    2.3841857710316106e-8,
                    0.24999993219971722,
                    0.5590170363275675
                  ],
                  "y": [
                    0.29389264599008463,
                    0.4755282923782967,
                    0.4755282625759746,
                    0.2938926161877625,
                    -1.7087717043997068e-8,
                    -0.29389265234738726,
                    -0.47552820932863293,
                    -0.47552820932863293,
                    -0.2938926225450651,
                    0.7694209117447105,
                    0.7694208819423884,
                    0.5877852355541764,
                    0.29389260227869674,
                    -3.2980973452279017e-8,
                    -0.18163558996221912,
                    -0.18163558996221912,
                    -3.178651286628309e-9,
                    0.9510565283306005,
                    0.7694208819423884,
                    0.4755282486669088,
                    0.1816356134072386,
                    5.6425992933650804e-8,
                    5.6425992933650804e-8,
                    0.18163564320956077,
                    0.7694208521400663,
                    0.4755282188645867,
                    0.1816355836049165,
                    2.6623670823511247e-8,
                    2.6623670823511247e-8,
                    0.18163561340723866,
                    0.2938925724763746,
                    -6.278329556241857e-8,
                    -0.18163561976454123,
                    -0.18163561976454123,
                    -3.2980973396767865e-8,
                    -0.29389269605877516,
                    -0.47552825304002083,
                    -0.47552825304002083,
                    -0.293892666256453,
                    -0.769420888299691,
                    -0.769420888299691,
                    -0.5877853015161232,
                    -0.9510564452809367,
                    -0.7694208584973689,
                    -0.7694208584973689
                  ]
                },
                {
                  "hoverinfo": "none",
                  "line": {
                    "color": "#F00",
                    "width": 2
                  },
                  "mode": "lines",
                  "type": "scatter",
                  "x": [
                    1,
                    0.809016944685427,
                    null,
                    0.809016944685427,
                    -0.8090170460133221,
                    null,
                    -0.8090170460133221,
                    -0.9999999821186069,
                    null,
                    -0.9999999821186069,
                    0.8090170042900712,
                    null,
                    0.8090170042900712,
                    -0.8090169268040337,
                    null,
                    -0.8090169268040337,
                    0.3090171279697079,
                    null,
                    0.3090171279697079,
                    -0.3090170802859925,
                    null,
                    -0.3090170802859925,
                    0.3090169789580973,
                    null,
                    0.3090169789580973,
                    -0.3090170206813483,
                    null,
                    -0.3090170206813483,
                    1,
                    null
                  ],
                  "y": [
                    2.662367085193061e-8,
                    -0.587785271713801,
                    null,
                    -0.587785271713801,
                    0.5877852057518542,
                    null,
                    0.5877852057518542,
                    -6.079910493992474e-8,
                    null,
                    -6.079910493992474e-8,
                    0.5877852653564984,
                    null,
                    0.5877852653564984,
                    -0.5877853313184453,
                    null,
                    -0.5877853313184453,
                    -0.9510564452809367,
                    null,
                    -0.9510564452809367,
                    -0.9510564452809367,
                    null,
                    -0.9510564452809367,
                    0.9510565581329226,
                    null,
                    0.9510565581329226,
                    0.9510564985282783,
                    null,
                    0.9510564985282783,
                    2.662367085193061e-8,
                    null
                  ]
                }
              ],
              "layout": {
                "hovermode": "closest",
                "margin": {
                  "b": 20,
                  "l": 5,
                  "r": 5,
                  "t": 40
                },
                "showlegend": false,
                "template": {
                  "data": {
                    "bar": [
                      {
                        "error_x": {
                          "color": "#2a3f5f"
                        },
                        "error_y": {
                          "color": "#2a3f5f"
                        },
                        "marker": {
                          "line": {
                            "color": "#E5ECF6",
                            "width": 0.5
                          }
                        },
                        "type": "bar"
                      }
                    ],
                    "barpolar": [
                      {
                        "marker": {
                          "line": {
                            "color": "#E5ECF6",
                            "width": 0.5
                          }
                        },
                        "type": "barpolar"
                      }
                    ],
                    "carpet": [
                      {
                        "aaxis": {
                          "endlinecolor": "#2a3f5f",
                          "gridcolor": "white",
                          "linecolor": "white",
                          "minorgridcolor": "white",
                          "startlinecolor": "#2a3f5f"
                        },
                        "baxis": {
                          "endlinecolor": "#2a3f5f",
                          "gridcolor": "white",
                          "linecolor": "white",
                          "minorgridcolor": "white",
                          "startlinecolor": "#2a3f5f"
                        },
                        "type": "carpet"
                      }
                    ],
                    "choropleth": [
                      {
                        "colorbar": {
                          "outlinewidth": 0,
                          "ticks": ""
                        },
                        "type": "choropleth"
                      }
                    ],
                    "contour": [
                      {
                        "colorbar": {
                          "outlinewidth": 0,
                          "ticks": ""
                        },
                        "colorscale": [
                          [
                            0,
                            "#0d0887"
                          ],
                          [
                            0.1111111111111111,
                            "#46039f"
                          ],
                          [
                            0.2222222222222222,
                            "#7201a8"
                          ],
                          [
                            0.3333333333333333,
                            "#9c179e"
                          ],
                          [
                            0.4444444444444444,
                            "#bd3786"
                          ],
                          [
                            0.5555555555555556,
                            "#d8576b"
                          ],
                          [
                            0.6666666666666666,
                            "#ed7953"
                          ],
                          [
                            0.7777777777777778,
                            "#fb9f3a"
                          ],
                          [
                            0.8888888888888888,
                            "#fdca26"
                          ],
                          [
                            1,
                            "#f0f921"
                          ]
                        ],
                        "type": "contour"
                      }
                    ],
                    "contourcarpet": [
                      {
                        "colorbar": {
                          "outlinewidth": 0,
                          "ticks": ""
                        },
                        "type": "contourcarpet"
                      }
                    ],
                    "heatmap": [
                      {
                        "colorbar": {
                          "outlinewidth": 0,
                          "ticks": ""
                        },
                        "colorscale": [
                          [
                            0,
                            "#0d0887"
                          ],
                          [
                            0.1111111111111111,
                            "#46039f"
                          ],
                          [
                            0.2222222222222222,
                            "#7201a8"
                          ],
                          [
                            0.3333333333333333,
                            "#9c179e"
                          ],
                          [
                            0.4444444444444444,
                            "#bd3786"
                          ],
                          [
                            0.5555555555555556,
                            "#d8576b"
                          ],
                          [
                            0.6666666666666666,
                            "#ed7953"
                          ],
                          [
                            0.7777777777777778,
                            "#fb9f3a"
                          ],
                          [
                            0.8888888888888888,
                            "#fdca26"
                          ],
                          [
                            1,
                            "#f0f921"
                          ]
                        ],
                        "type": "heatmap"
                      }
                    ],
                    "heatmapgl": [
                      {
                        "colorbar": {
                          "outlinewidth": 0,
                          "ticks": ""
                        },
                        "colorscale": [
                          [
                            0,
                            "#0d0887"
                          ],
                          [
                            0.1111111111111111,
                            "#46039f"
                          ],
                          [
                            0.2222222222222222,
                            "#7201a8"
                          ],
                          [
                            0.3333333333333333,
                            "#9c179e"
                          ],
                          [
                            0.4444444444444444,
                            "#bd3786"
                          ],
                          [
                            0.5555555555555556,
                            "#d8576b"
                          ],
                          [
                            0.6666666666666666,
                            "#ed7953"
                          ],
                          [
                            0.7777777777777778,
                            "#fb9f3a"
                          ],
                          [
                            0.8888888888888888,
                            "#fdca26"
                          ],
                          [
                            1,
                            "#f0f921"
                          ]
                        ],
                        "type": "heatmapgl"
                      }
                    ],
                    "histogram": [
                      {
                        "marker": {
                          "colorbar": {
                            "outlinewidth": 0,
                            "ticks": ""
                          }
                        },
                        "type": "histogram"
                      }
                    ],
                    "histogram2d": [
                      {
                        "colorbar": {
                          "outlinewidth": 0,
                          "ticks": ""
                        },
                        "colorscale": [
                          [
                            0,
                            "#0d0887"
                          ],
                          [
                            0.1111111111111111,
                            "#46039f"
                          ],
                          [
                            0.2222222222222222,
                            "#7201a8"
                          ],
                          [
                            0.3333333333333333,
                            "#9c179e"
                          ],
                          [
                            0.4444444444444444,
                            "#bd3786"
                          ],
                          [
                            0.5555555555555556,
                            "#d8576b"
                          ],
                          [
                            0.6666666666666666,
                            "#ed7953"
                          ],
                          [
                            0.7777777777777778,
                            "#fb9f3a"
                          ],
                          [
                            0.8888888888888888,
                            "#fdca26"
                          ],
                          [
                            1,
                            "#f0f921"
                          ]
                        ],
                        "type": "histogram2d"
                      }
                    ],
                    "histogram2dcontour": [
                      {
                        "colorbar": {
                          "outlinewidth": 0,
                          "ticks": ""
                        },
                        "colorscale": [
                          [
                            0,
                            "#0d0887"
                          ],
                          [
                            0.1111111111111111,
                            "#46039f"
                          ],
                          [
                            0.2222222222222222,
                            "#7201a8"
                          ],
                          [
                            0.3333333333333333,
                            "#9c179e"
                          ],
                          [
                            0.4444444444444444,
                            "#bd3786"
                          ],
                          [
                            0.5555555555555556,
                            "#d8576b"
                          ],
                          [
                            0.6666666666666666,
                            "#ed7953"
                          ],
                          [
                            0.7777777777777778,
                            "#fb9f3a"
                          ],
                          [
                            0.8888888888888888,
                            "#fdca26"
                          ],
                          [
                            1,
                            "#f0f921"
                          ]
                        ],
                        "type": "histogram2dcontour"
                      }
                    ],
                    "mesh3d": [
                      {
                        "colorbar": {
                          "outlinewidth": 0,
                          "ticks": ""
                        },
                        "type": "mesh3d"
                      }
                    ],
                    "parcoords": [
                      {
                        "line": {
                          "colorbar": {
                            "outlinewidth": 0,
                            "ticks": ""
                          }
                        },
                        "type": "parcoords"
                      }
                    ],
                    "scatter": [
                      {
                        "marker": {
                          "colorbar": {
                            "outlinewidth": 0,
                            "ticks": ""
                          }
                        },
                        "type": "scatter"
                      }
                    ],
                    "scatter3d": [
                      {
                        "line": {
                          "colorbar": {
                            "outlinewidth": 0,
                            "ticks": ""
                          }
                        },
                        "marker": {
                          "colorbar": {
                            "outlinewidth": 0,
                            "ticks": ""
                          }
                        },
                        "type": "scatter3d"
                      }
                    ],
                    "scattercarpet": [
                      {
                        "marker": {
                          "colorbar": {
                            "outlinewidth": 0,
                            "ticks": ""
                          }
                        },
                        "type": "scattercarpet"
                      }
                    ],
                    "scattergeo": [
                      {
                        "marker": {
                          "colorbar": {
                            "outlinewidth": 0,
                            "ticks": ""
                          }
                        },
                        "type": "scattergeo"
                      }
                    ],
                    "scattergl": [
                      {
                        "marker": {
                          "colorbar": {
                            "outlinewidth": 0,
                            "ticks": ""
                          }
                        },
                        "type": "scattergl"
                      }
                    ],
                    "scattermapbox": [
                      {
                        "marker": {
                          "colorbar": {
                            "outlinewidth": 0,
                            "ticks": ""
                          }
                        },
                        "type": "scattermapbox"
                      }
                    ],
                    "scatterpolar": [
                      {
                        "marker": {
                          "colorbar": {
                            "outlinewidth": 0,
                            "ticks": ""
                          }
                        },
                        "type": "scatterpolar"
                      }
                    ],
                    "scatterpolargl": [
                      {
                        "marker": {
                          "colorbar": {
                            "outlinewidth": 0,
                            "ticks": ""
                          }
                        },
                        "type": "scatterpolargl"
                      }
                    ],
                    "scatterternary": [
                      {
                        "marker": {
                          "colorbar": {
                            "outlinewidth": 0,
                            "ticks": ""
                          }
                        },
                        "type": "scatterternary"
                      }
                    ],
                    "surface": [
                      {
                        "colorbar": {
                          "outlinewidth": 0,
                          "ticks": ""
                        },
                        "colorscale": [
                          [
                            0,
                            "#0d0887"
                          ],
                          [
                            0.1111111111111111,
                            "#46039f"
                          ],
                          [
                            0.2222222222222222,
                            "#7201a8"
                          ],
                          [
                            0.3333333333333333,
                            "#9c179e"
                          ],
                          [
                            0.4444444444444444,
                            "#bd3786"
                          ],
                          [
                            0.5555555555555556,
                            "#d8576b"
                          ],
                          [
                            0.6666666666666666,
                            "#ed7953"
                          ],
                          [
                            0.7777777777777778,
                            "#fb9f3a"
                          ],
                          [
                            0.8888888888888888,
                            "#fdca26"
                          ],
                          [
                            1,
                            "#f0f921"
                          ]
                        ],
                        "type": "surface"
                      }
                    ],
                    "table": [
                      {
                        "cells": {
                          "fill": {
                            "color": "#EBF0F8"
                          },
                          "line": {
                            "color": "white"
                          }
                        },
                        "header": {
                          "fill": {
                            "color": "#C8D4E3"
                          },
                          "line": {
                            "color": "white"
                          }
                        },
                        "type": "table"
                      }
                    ]
                  },
                  "layout": {
                    "annotationdefaults": {
                      "arrowcolor": "#2a3f5f",
                      "arrowhead": 0,
                      "arrowwidth": 1
                    },
                    "colorscale": {
                      "diverging": [
                        [
                          0,
                          "#8e0152"
                        ],
                        [
                          0.1,
                          "#c51b7d"
                        ],
                        [
                          0.2,
                          "#de77ae"
                        ],
                        [
                          0.3,
                          "#f1b6da"
                        ],
                        [
                          0.4,
                          "#fde0ef"
                        ],
                        [
                          0.5,
                          "#f7f7f7"
                        ],
                        [
                          0.6,
                          "#e6f5d0"
                        ],
                        [
                          0.7,
                          "#b8e186"
                        ],
                        [
                          0.8,
                          "#7fbc41"
                        ],
                        [
                          0.9,
                          "#4d9221"
                        ],
                        [
                          1,
                          "#276419"
                        ]
                      ],
                      "sequential": [
                        [
                          0,
                          "#0d0887"
                        ],
                        [
                          0.1111111111111111,
                          "#46039f"
                        ],
                        [
                          0.2222222222222222,
                          "#7201a8"
                        ],
                        [
                          0.3333333333333333,
                          "#9c179e"
                        ],
                        [
                          0.4444444444444444,
                          "#bd3786"
                        ],
                        [
                          0.5555555555555556,
                          "#d8576b"
                        ],
                        [
                          0.6666666666666666,
                          "#ed7953"
                        ],
                        [
                          0.7777777777777778,
                          "#fb9f3a"
                        ],
                        [
                          0.8888888888888888,
                          "#fdca26"
                        ],
                        [
                          1,
                          "#f0f921"
                        ]
                      ],
                      "sequentialminus": [
                        [
                          0,
                          "#0d0887"
                        ],
                        [
                          0.1111111111111111,
                          "#46039f"
                        ],
                        [
                          0.2222222222222222,
                          "#7201a8"
                        ],
                        [
                          0.3333333333333333,
                          "#9c179e"
                        ],
                        [
                          0.4444444444444444,
                          "#bd3786"
                        ],
                        [
                          0.5555555555555556,
                          "#d8576b"
                        ],
                        [
                          0.6666666666666666,
                          "#ed7953"
                        ],
                        [
                          0.7777777777777778,
                          "#fb9f3a"
                        ],
                        [
                          0.8888888888888888,
                          "#fdca26"
                        ],
                        [
                          1,
                          "#f0f921"
                        ]
                      ]
                    },
                    "colorway": [
                      "#636efa",
                      "#EF553B",
                      "#00cc96",
                      "#ab63fa",
                      "#FFA15A",
                      "#19d3f3",
                      "#FF6692",
                      "#B6E880",
                      "#FF97FF",
                      "#FECB52"
                    ],
                    "font": {
                      "color": "#2a3f5f"
                    },
                    "geo": {
                      "bgcolor": "white",
                      "lakecolor": "white",
                      "landcolor": "#E5ECF6",
                      "showlakes": true,
                      "showland": true,
                      "subunitcolor": "white"
                    },
                    "hoverlabel": {
                      "align": "left"
                    },
                    "hovermode": "closest",
                    "mapbox": {
                      "style": "light"
                    },
                    "paper_bgcolor": "white",
                    "plot_bgcolor": "#E5ECF6",
                    "polar": {
                      "angularaxis": {
                        "gridcolor": "white",
                        "linecolor": "white",
                        "ticks": ""
                      },
                      "bgcolor": "#E5ECF6",
                      "radialaxis": {
                        "gridcolor": "white",
                        "linecolor": "white",
                        "ticks": ""
                      }
                    },
                    "scene": {
                      "xaxis": {
                        "backgroundcolor": "#E5ECF6",
                        "gridcolor": "white",
                        "gridwidth": 2,
                        "linecolor": "white",
                        "showbackground": true,
                        "ticks": "",
                        "zerolinecolor": "white"
                      },
                      "yaxis": {
                        "backgroundcolor": "#E5ECF6",
                        "gridcolor": "white",
                        "gridwidth": 2,
                        "linecolor": "white",
                        "showbackground": true,
                        "ticks": "",
                        "zerolinecolor": "white"
                      },
                      "zaxis": {
                        "backgroundcolor": "#E5ECF6",
                        "gridcolor": "white",
                        "gridwidth": 2,
                        "linecolor": "white",
                        "showbackground": true,
                        "ticks": "",
                        "zerolinecolor": "white"
                      }
                    },
                    "shapedefaults": {
                      "line": {
                        "color": "#2a3f5f"
                      }
                    },
                    "ternary": {
                      "aaxis": {
                        "gridcolor": "white",
                        "linecolor": "white",
                        "ticks": ""
                      },
                      "baxis": {
                        "gridcolor": "white",
                        "linecolor": "white",
                        "ticks": ""
                      },
                      "bgcolor": "#E5ECF6",
                      "caxis": {
                        "gridcolor": "white",
                        "linecolor": "white",
                        "ticks": ""
                      }
                    },
                    "title": {
                      "x": 0.05
                    },
                    "xaxis": {
                      "automargin": true,
                      "gridcolor": "white",
                      "linecolor": "white",
                      "ticks": "",
                      "zerolinecolor": "white",
                      "zerolinewidth": 2
                    },
                    "yaxis": {
                      "automargin": true,
                      "gridcolor": "white",
                      "linecolor": "white",
                      "ticks": "",
                      "zerolinecolor": "white",
                      "zerolinewidth": 2
                    }
                  }
                },
                "title": {
                  "font": {
                    "size": 16
                  },
                  "text": "Traveling Salesman exact Solution"
                },
                "xaxis": {
                  "showgrid": false,
                  "showticklabels": false,
                  "zeroline": false
                },
                "yaxis": {
                  "showgrid": false,
                  "showticklabels": false,
                  "zeroline": false
                }
              }
            }
          },
          "metadata": {}
        }
      ],
      "execution_count": 267,
      "metadata": {
        "collapsed": false,
        "outputHidden": false,
        "inputHidden": false
      }
    },
    {
      "cell_type": "code",
      "source": [
        "plot_TSP(G3,optimum['G3']['way'])"
      ],
      "outputs": [
        {
          "output_type": "stream",
          "name": "stdout",
          "text": [
            "\n"
          ]
        },
        {
          "output_type": "display_data",
          "data": {
            "application/vnd.plotly.v1+json": {
              "config": {
                "plotlyServerURL": "https://plot.ly"
              },
              "data": [
                {
                  "hoverinfo": "none",
                  "line": {
                    "color": "#888",
                    "width": 0.5
                  },
                  "mode": "lines",
                  "type": "scatter",
                  "x": [
                    1,
                    0.8412535203485041,
                    null,
                    1,
                    0.41541505335069473,
                    null,
                    1,
                    -0.14231482709823826,
                    null,
                    1,
                    -0.6548606618843783,
                    null,
                    1,
                    -0.9594929655072936,
                    null,
                    1,
                    -0.9594929655072936,
                    null,
                    1,
                    -0.6548607214890226,
                    null,
                    1,
                    -0.14231500591217114,
                    null,
                    1,
                    0.41541511295533906,
                    null,
                    1,
                    0.8412534607438598,
                    null,
                    0.8412535203485041,
                    0.41541505335069473,
                    null,
                    0.8412535203485041,
                    -0.14231482709823826,
                    null,
                    0.8412535203485041,
                    -0.6548606618843783,
                    null,
                    0.8412535203485041,
                    -0.9594929655072936,
                    null,
                    0.8412535203485041,
                    -0.9594929655072936,
                    null,
                    0.8412535203485041,
                    -0.6548607214890226,
                    null,
                    0.8412535203485041,
                    -0.14231500591217114,
                    null,
                    0.8412535203485041,
                    0.41541511295533906,
                    null,
                    0.8412535203485041,
                    0.8412534607438598,
                    null,
                    0.41541505335069473,
                    -0.14231482709823826,
                    null,
                    0.41541505335069473,
                    -0.6548606618843783,
                    null,
                    0.41541505335069473,
                    -0.9594929655072936,
                    null,
                    0.41541505335069473,
                    -0.9594929655072936,
                    null,
                    0.41541505335069473,
                    -0.6548607214890226,
                    null,
                    0.41541505335069473,
                    -0.14231500591217114,
                    null,
                    0.41541505335069473,
                    0.41541511295533906,
                    null,
                    0.41541505335069473,
                    0.8412534607438598,
                    null,
                    -0.14231482709823826,
                    -0.6548606618843783,
                    null,
                    -0.14231482709823826,
                    -0.9594929655072936,
                    null,
                    -0.14231482709823826,
                    -0.9594929655072936,
                    null,
                    -0.14231482709823826,
                    -0.6548607214890226,
                    null,
                    -0.14231482709823826,
                    -0.14231500591217114,
                    null,
                    -0.14231482709823826,
                    0.41541511295533906,
                    null,
                    -0.14231482709823826,
                    0.8412534607438598,
                    null,
                    -0.6548606618843783,
                    -0.9594929655072936,
                    null,
                    -0.6548606618843783,
                    -0.9594929655072936,
                    null,
                    -0.6548606618843783,
                    -0.6548607214890226,
                    null,
                    -0.6548606618843783,
                    -0.14231500591217114,
                    null,
                    -0.6548606618843783,
                    0.41541511295533906,
                    null,
                    -0.6548606618843783,
                    0.8412534607438598,
                    null,
                    -0.9594929655072936,
                    -0.9594929655072936,
                    null,
                    -0.9594929655072936,
                    -0.6548607214890226,
                    null,
                    -0.9594929655072936,
                    -0.14231500591217114,
                    null,
                    -0.9594929655072936,
                    0.41541511295533906,
                    null,
                    -0.9594929655072936,
                    0.8412534607438598,
                    null,
                    -0.9594929655072936,
                    -0.6548607214890226,
                    null,
                    -0.9594929655072936,
                    -0.14231500591217114,
                    null,
                    -0.9594929655072936,
                    0.41541511295533906,
                    null,
                    -0.9594929655072936,
                    0.8412534607438598,
                    null,
                    -0.6548607214890226,
                    -0.14231500591217114,
                    null,
                    -0.6548607214890226,
                    0.41541511295533906,
                    null,
                    -0.6548607214890226,
                    0.8412534607438598,
                    null,
                    -0.14231500591217114,
                    0.41541511295533906,
                    null,
                    -0.14231500591217114,
                    0.8412534607438598,
                    null,
                    0.41541511295533906,
                    0.8412534607438598,
                    null
                  ],
                  "y": [
                    0,
                    0.5406407669947302,
                    null,
                    0,
                    0.9096319601511526,
                    null,
                    0,
                    0.9898214259758205,
                    null,
                    0,
                    0.7557496367063065,
                    null,
                    0,
                    0.28173261651885007,
                    null,
                    0,
                    -0.2817325569142058,
                    null,
                    0,
                    -0.7557495771016621,
                    null,
                    0,
                    -0.9898214259758205,
                    null,
                    0,
                    -0.9096319601511526,
                    null,
                    0,
                    -0.5406408862040187,
                    null,
                    0.5406407669947302,
                    0.9096319601511526,
                    null,
                    0.5406407669947302,
                    0.9898214259758205,
                    null,
                    0.5406407669947302,
                    0.7557496367063065,
                    null,
                    0.5406407669947302,
                    0.28173261651885007,
                    null,
                    0.5406407669947302,
                    -0.2817325569142058,
                    null,
                    0.5406407669947302,
                    -0.7557495771016621,
                    null,
                    0.5406407669947302,
                    -0.9898214259758205,
                    null,
                    0.5406407669947302,
                    -0.9096319601511526,
                    null,
                    0.5406407669947302,
                    -0.5406408862040187,
                    null,
                    0.9096319601511526,
                    0.9898214259758205,
                    null,
                    0.9096319601511526,
                    0.7557496367063065,
                    null,
                    0.9096319601511526,
                    0.28173261651885007,
                    null,
                    0.9096319601511526,
                    -0.2817325569142058,
                    null,
                    0.9096319601511526,
                    -0.7557495771016621,
                    null,
                    0.9096319601511526,
                    -0.9898214259758205,
                    null,
                    0.9096319601511526,
                    -0.9096319601511526,
                    null,
                    0.9096319601511526,
                    -0.5406408862040187,
                    null,
                    0.9898214259758205,
                    0.7557496367063065,
                    null,
                    0.9898214259758205,
                    0.28173261651885007,
                    null,
                    0.9898214259758205,
                    -0.2817325569142058,
                    null,
                    0.9898214259758205,
                    -0.7557495771016621,
                    null,
                    0.9898214259758205,
                    -0.9898214259758205,
                    null,
                    0.9898214259758205,
                    -0.9096319601511526,
                    null,
                    0.9898214259758205,
                    -0.5406408862040187,
                    null,
                    0.7557496367063065,
                    0.28173261651885007,
                    null,
                    0.7557496367063065,
                    -0.2817325569142058,
                    null,
                    0.7557496367063065,
                    -0.7557495771016621,
                    null,
                    0.7557496367063065,
                    -0.9898214259758205,
                    null,
                    0.7557496367063065,
                    -0.9096319601511526,
                    null,
                    0.7557496367063065,
                    -0.5406408862040187,
                    null,
                    0.28173261651885007,
                    -0.2817325569142058,
                    null,
                    0.28173261651885007,
                    -0.7557495771016621,
                    null,
                    0.28173261651885007,
                    -0.9898214259758205,
                    null,
                    0.28173261651885007,
                    -0.9096319601511526,
                    null,
                    0.28173261651885007,
                    -0.5406408862040187,
                    null,
                    -0.2817325569142058,
                    -0.7557495771016621,
                    null,
                    -0.2817325569142058,
                    -0.9898214259758205,
                    null,
                    -0.2817325569142058,
                    -0.9096319601511526,
                    null,
                    -0.2817325569142058,
                    -0.5406408862040187,
                    null,
                    -0.7557495771016621,
                    -0.9898214259758205,
                    null,
                    -0.7557495771016621,
                    -0.9096319601511526,
                    null,
                    -0.7557495771016621,
                    -0.5406408862040187,
                    null,
                    -0.9898214259758205,
                    -0.9096319601511526,
                    null,
                    -0.9898214259758205,
                    -0.5406408862040187,
                    null,
                    -0.9096319601511526,
                    -0.5406408862040187,
                    null
                  ]
                },
                {
                  "hoverinfo": "none",
                  "marker": {
                    "color": "#FFF",
                    "colorscale": [
                      [
                        0,
                        "rgb(161, 105, 40)"
                      ],
                      [
                        0.16666666666666666,
                        "rgb(189, 146, 90)"
                      ],
                      [
                        0.3333333333333333,
                        "rgb(214, 189, 141)"
                      ],
                      [
                        0.5,
                        "rgb(237, 234, 194)"
                      ],
                      [
                        0.6666666666666666,
                        "rgb(181, 200, 184)"
                      ],
                      [
                        0.8333333333333334,
                        "rgb(121, 167, 172)"
                      ],
                      [
                        1,
                        "rgb(40, 135, 161)"
                      ]
                    ],
                    "line": {
                      "width": 2
                    },
                    "reversescale": true,
                    "showscale": false,
                    "size": 25
                  },
                  "mode": "markers+text",
                  "text": [
                    "1",
                    "2",
                    "3",
                    "4",
                    "5",
                    "6",
                    "7",
                    "8",
                    "9",
                    "10",
                    "11"
                  ],
                  "textposition": "middle center",
                  "type": "scatter",
                  "x": [
                    1,
                    0.8412535203485041,
                    0.41541505335069473,
                    -0.14231482709823826,
                    -0.6548606618843783,
                    -0.9594929655072936,
                    -0.9594929655072936,
                    -0.6548607214890226,
                    -0.14231500591217114,
                    0.41541511295533906,
                    0.8412534607438598
                  ],
                  "y": [
                    0,
                    0.5406407669947302,
                    0.9096319601511526,
                    0.9898214259758205,
                    0.7557496367063065,
                    0.28173261651885007,
                    -0.2817325569142058,
                    -0.7557495771016621,
                    -0.9898214259758205,
                    -0.9096319601511526,
                    -0.5406408862040187
                  ]
                },
                {
                  "hoverinfo": "none",
                  "marker": {
                    "opacity": 0
                  },
                  "mode": "markers+text",
                  "text": [
                    "19",
                    "58",
                    "61",
                    "81",
                    "4",
                    "11",
                    "56",
                    "12",
                    "59",
                    "53",
                    "76",
                    "10",
                    "61",
                    "33",
                    "43",
                    "77",
                    "87",
                    "63",
                    "9",
                    "5",
                    "66",
                    "30",
                    "80",
                    "72",
                    "87",
                    "97",
                    "43",
                    "68",
                    "20",
                    "65",
                    "45",
                    "98",
                    "6",
                    "18",
                    "11",
                    "85",
                    "61",
                    "78",
                    "74",
                    "86",
                    "64",
                    "49",
                    "84",
                    "39",
                    "71",
                    "59",
                    "88",
                    "82",
                    "46",
                    "87",
                    "82",
                    "72",
                    "11",
                    "63",
                    "54"
                  ],
                  "textfont": {
                    "color": "blue",
                    "size": 9
                  },
                  "textposition": "middle center",
                  "type": "scatter",
                  "x": [
                    0.920626760174252,
                    0.7077075266753474,
                    0.42884258645088086,
                    0.17256966905781085,
                    0.020253517246353214,
                    0.020253517246353214,
                    0.17256963925548868,
                    0.4288424970439144,
                    0.7077075564776696,
                    0.9206267303719299,
                    0.6283342868495994,
                    0.3494693466251329,
                    0.0931964292320629,
                    -0.05911972257939474,
                    -0.05911972257939474,
                    0.09319639942974073,
                    0.34946925721816646,
                    0.6283343166519215,
                    0.8412534905461819,
                    0.13655011312622822,
                    -0.11972280426684179,
                    -0.2720389560782994,
                    -0.2720389560782994,
                    -0.11972283406916395,
                    0.13655002371926178,
                    0.4154150831530169,
                    0.6283342570472772,
                    -0.3985877444913083,
                    -0.5509038963027659,
                    -0.5509038963027659,
                    -0.39858777429363046,
                    -0.1423149165052047,
                    0.1365501429285504,
                    0.34946931682281074,
                    -0.8071768136958359,
                    -0.8071768136958359,
                    -0.6548606916867005,
                    -0.39858783389827473,
                    -0.11972277446451962,
                    0.09319639942974073,
                    -0.9594929655072936,
                    -0.8071768434981581,
                    -0.5509039857097323,
                    -0.27203892627597726,
                    -0.059119752381716906,
                    -0.8071768434981581,
                    -0.5509039857097323,
                    -0.27203892627597726,
                    -0.059119752381716906,
                    -0.3985878637005969,
                    -0.11972280426684179,
                    0.09319636962741856,
                    0.13655005352158395,
                    0.3494692274158443,
                    0.6283342868495994
                  ],
                  "y": [
                    0.2703203834973651,
                    0.4548159800755763,
                    0.49491071298791023,
                    0.37787481835315323,
                    0.14086630825942503,
                    -0.1408662784571029,
                    -0.37787478855083106,
                    -0.49491071298791023,
                    -0.4548159800755763,
                    -0.27032044310200937,
                    0.7251363635729413,
                    0.7652310964852753,
                    0.6481952018505184,
                    0.4111866917567901,
                    0.1294541050402622,
                    -0.10755440505346597,
                    -0.22459032949054514,
                    -0.18449559657821119,
                    -5.9604644275790264e-8,
                    0.9497266930634864,
                    0.8326907984287295,
                    0.5956822883350013,
                    0.31394970161847335,
                    0.07694119152474521,
                    -0.04009473291233395,
                    0,
                    0.1844955369735669,
                    0.8727855313410635,
                    0.6357770212473353,
                    0.35404443453080736,
                    0.11703592443707916,
                    0,
                    0.04009473291233395,
                    0.22459026988590086,
                    0.5187411266125783,
                    0.23700853989605034,
                    2.9802322165650708e-8,
                    -0.117035894634757,
                    -0.07694116172242305,
                    0.10755437525114386,
                    2.9802322137895132e-8,
                    -0.23700848029140603,
                    -0.3540444047284852,
                    -0.31394967181615124,
                    -0.12945413484258433,
                    -0.518741067007934,
                    -0.6357769914450131,
                    -0.5956822585326792,
                    -0.4111867215591123,
                    -0.8727855015387413,
                    -0.8326907686264073,
                    -0.6481952316528404,
                    -0.9497266930634864,
                    -0.7652311560899197,
                    -0.7251364231775856
                  ]
                },
                {
                  "hoverinfo": "none",
                  "line": {
                    "color": "#F00",
                    "width": 2
                  },
                  "mode": "lines",
                  "type": "scatter",
                  "x": [
                    1,
                    -0.14231500591217114,
                    null,
                    -0.14231500591217114,
                    0.41541511295533906,
                    null,
                    0.41541511295533906,
                    -0.14231482709823826,
                    null,
                    -0.14231482709823826,
                    0.41541505335069473,
                    null,
                    0.41541505335069473,
                    0.8412534607438598,
                    null,
                    0.8412534607438598,
                    0.8412535203485041,
                    null,
                    0.8412535203485041,
                    -0.9594929655072936,
                    null,
                    -0.9594929655072936,
                    -0.6548606618843783,
                    null,
                    -0.6548606618843783,
                    -0.6548607214890226,
                    null,
                    -0.6548607214890226,
                    -0.9594929655072936,
                    null,
                    -0.9594929655072936,
                    1,
                    null
                  ],
                  "y": [
                    0,
                    -0.9898214259758205,
                    null,
                    -0.9898214259758205,
                    -0.9096319601511526,
                    null,
                    -0.9096319601511526,
                    0.9898214259758205,
                    null,
                    0.9898214259758205,
                    0.9096319601511526,
                    null,
                    0.9096319601511526,
                    -0.5406408862040187,
                    null,
                    -0.5406408862040187,
                    0.5406407669947302,
                    null,
                    0.5406407669947302,
                    0.28173261651885007,
                    null,
                    0.28173261651885007,
                    0.7557496367063065,
                    null,
                    0.7557496367063065,
                    -0.7557495771016621,
                    null,
                    -0.7557495771016621,
                    -0.2817325569142058,
                    null,
                    -0.2817325569142058,
                    0,
                    null
                  ]
                }
              ],
              "layout": {
                "hovermode": "closest",
                "margin": {
                  "b": 20,
                  "l": 5,
                  "r": 5,
                  "t": 40
                },
                "showlegend": false,
                "template": {
                  "data": {
                    "bar": [
                      {
                        "error_x": {
                          "color": "#2a3f5f"
                        },
                        "error_y": {
                          "color": "#2a3f5f"
                        },
                        "marker": {
                          "line": {
                            "color": "#E5ECF6",
                            "width": 0.5
                          }
                        },
                        "type": "bar"
                      }
                    ],
                    "barpolar": [
                      {
                        "marker": {
                          "line": {
                            "color": "#E5ECF6",
                            "width": 0.5
                          }
                        },
                        "type": "barpolar"
                      }
                    ],
                    "carpet": [
                      {
                        "aaxis": {
                          "endlinecolor": "#2a3f5f",
                          "gridcolor": "white",
                          "linecolor": "white",
                          "minorgridcolor": "white",
                          "startlinecolor": "#2a3f5f"
                        },
                        "baxis": {
                          "endlinecolor": "#2a3f5f",
                          "gridcolor": "white",
                          "linecolor": "white",
                          "minorgridcolor": "white",
                          "startlinecolor": "#2a3f5f"
                        },
                        "type": "carpet"
                      }
                    ],
                    "choropleth": [
                      {
                        "colorbar": {
                          "outlinewidth": 0,
                          "ticks": ""
                        },
                        "type": "choropleth"
                      }
                    ],
                    "contour": [
                      {
                        "colorbar": {
                          "outlinewidth": 0,
                          "ticks": ""
                        },
                        "colorscale": [
                          [
                            0,
                            "#0d0887"
                          ],
                          [
                            0.1111111111111111,
                            "#46039f"
                          ],
                          [
                            0.2222222222222222,
                            "#7201a8"
                          ],
                          [
                            0.3333333333333333,
                            "#9c179e"
                          ],
                          [
                            0.4444444444444444,
                            "#bd3786"
                          ],
                          [
                            0.5555555555555556,
                            "#d8576b"
                          ],
                          [
                            0.6666666666666666,
                            "#ed7953"
                          ],
                          [
                            0.7777777777777778,
                            "#fb9f3a"
                          ],
                          [
                            0.8888888888888888,
                            "#fdca26"
                          ],
                          [
                            1,
                            "#f0f921"
                          ]
                        ],
                        "type": "contour"
                      }
                    ],
                    "contourcarpet": [
                      {
                        "colorbar": {
                          "outlinewidth": 0,
                          "ticks": ""
                        },
                        "type": "contourcarpet"
                      }
                    ],
                    "heatmap": [
                      {
                        "colorbar": {
                          "outlinewidth": 0,
                          "ticks": ""
                        },
                        "colorscale": [
                          [
                            0,
                            "#0d0887"
                          ],
                          [
                            0.1111111111111111,
                            "#46039f"
                          ],
                          [
                            0.2222222222222222,
                            "#7201a8"
                          ],
                          [
                            0.3333333333333333,
                            "#9c179e"
                          ],
                          [
                            0.4444444444444444,
                            "#bd3786"
                          ],
                          [
                            0.5555555555555556,
                            "#d8576b"
                          ],
                          [
                            0.6666666666666666,
                            "#ed7953"
                          ],
                          [
                            0.7777777777777778,
                            "#fb9f3a"
                          ],
                          [
                            0.8888888888888888,
                            "#fdca26"
                          ],
                          [
                            1,
                            "#f0f921"
                          ]
                        ],
                        "type": "heatmap"
                      }
                    ],
                    "heatmapgl": [
                      {
                        "colorbar": {
                          "outlinewidth": 0,
                          "ticks": ""
                        },
                        "colorscale": [
                          [
                            0,
                            "#0d0887"
                          ],
                          [
                            0.1111111111111111,
                            "#46039f"
                          ],
                          [
                            0.2222222222222222,
                            "#7201a8"
                          ],
                          [
                            0.3333333333333333,
                            "#9c179e"
                          ],
                          [
                            0.4444444444444444,
                            "#bd3786"
                          ],
                          [
                            0.5555555555555556,
                            "#d8576b"
                          ],
                          [
                            0.6666666666666666,
                            "#ed7953"
                          ],
                          [
                            0.7777777777777778,
                            "#fb9f3a"
                          ],
                          [
                            0.8888888888888888,
                            "#fdca26"
                          ],
                          [
                            1,
                            "#f0f921"
                          ]
                        ],
                        "type": "heatmapgl"
                      }
                    ],
                    "histogram": [
                      {
                        "marker": {
                          "colorbar": {
                            "outlinewidth": 0,
                            "ticks": ""
                          }
                        },
                        "type": "histogram"
                      }
                    ],
                    "histogram2d": [
                      {
                        "colorbar": {
                          "outlinewidth": 0,
                          "ticks": ""
                        },
                        "colorscale": [
                          [
                            0,
                            "#0d0887"
                          ],
                          [
                            0.1111111111111111,
                            "#46039f"
                          ],
                          [
                            0.2222222222222222,
                            "#7201a8"
                          ],
                          [
                            0.3333333333333333,
                            "#9c179e"
                          ],
                          [
                            0.4444444444444444,
                            "#bd3786"
                          ],
                          [
                            0.5555555555555556,
                            "#d8576b"
                          ],
                          [
                            0.6666666666666666,
                            "#ed7953"
                          ],
                          [
                            0.7777777777777778,
                            "#fb9f3a"
                          ],
                          [
                            0.8888888888888888,
                            "#fdca26"
                          ],
                          [
                            1,
                            "#f0f921"
                          ]
                        ],
                        "type": "histogram2d"
                      }
                    ],
                    "histogram2dcontour": [
                      {
                        "colorbar": {
                          "outlinewidth": 0,
                          "ticks": ""
                        },
                        "colorscale": [
                          [
                            0,
                            "#0d0887"
                          ],
                          [
                            0.1111111111111111,
                            "#46039f"
                          ],
                          [
                            0.2222222222222222,
                            "#7201a8"
                          ],
                          [
                            0.3333333333333333,
                            "#9c179e"
                          ],
                          [
                            0.4444444444444444,
                            "#bd3786"
                          ],
                          [
                            0.5555555555555556,
                            "#d8576b"
                          ],
                          [
                            0.6666666666666666,
                            "#ed7953"
                          ],
                          [
                            0.7777777777777778,
                            "#fb9f3a"
                          ],
                          [
                            0.8888888888888888,
                            "#fdca26"
                          ],
                          [
                            1,
                            "#f0f921"
                          ]
                        ],
                        "type": "histogram2dcontour"
                      }
                    ],
                    "mesh3d": [
                      {
                        "colorbar": {
                          "outlinewidth": 0,
                          "ticks": ""
                        },
                        "type": "mesh3d"
                      }
                    ],
                    "parcoords": [
                      {
                        "line": {
                          "colorbar": {
                            "outlinewidth": 0,
                            "ticks": ""
                          }
                        },
                        "type": "parcoords"
                      }
                    ],
                    "scatter": [
                      {
                        "marker": {
                          "colorbar": {
                            "outlinewidth": 0,
                            "ticks": ""
                          }
                        },
                        "type": "scatter"
                      }
                    ],
                    "scatter3d": [
                      {
                        "line": {
                          "colorbar": {
                            "outlinewidth": 0,
                            "ticks": ""
                          }
                        },
                        "marker": {
                          "colorbar": {
                            "outlinewidth": 0,
                            "ticks": ""
                          }
                        },
                        "type": "scatter3d"
                      }
                    ],
                    "scattercarpet": [
                      {
                        "marker": {
                          "colorbar": {
                            "outlinewidth": 0,
                            "ticks": ""
                          }
                        },
                        "type": "scattercarpet"
                      }
                    ],
                    "scattergeo": [
                      {
                        "marker": {
                          "colorbar": {
                            "outlinewidth": 0,
                            "ticks": ""
                          }
                        },
                        "type": "scattergeo"
                      }
                    ],
                    "scattergl": [
                      {
                        "marker": {
                          "colorbar": {
                            "outlinewidth": 0,
                            "ticks": ""
                          }
                        },
                        "type": "scattergl"
                      }
                    ],
                    "scattermapbox": [
                      {
                        "marker": {
                          "colorbar": {
                            "outlinewidth": 0,
                            "ticks": ""
                          }
                        },
                        "type": "scattermapbox"
                      }
                    ],
                    "scatterpolar": [
                      {
                        "marker": {
                          "colorbar": {
                            "outlinewidth": 0,
                            "ticks": ""
                          }
                        },
                        "type": "scatterpolar"
                      }
                    ],
                    "scatterpolargl": [
                      {
                        "marker": {
                          "colorbar": {
                            "outlinewidth": 0,
                            "ticks": ""
                          }
                        },
                        "type": "scatterpolargl"
                      }
                    ],
                    "scatterternary": [
                      {
                        "marker": {
                          "colorbar": {
                            "outlinewidth": 0,
                            "ticks": ""
                          }
                        },
                        "type": "scatterternary"
                      }
                    ],
                    "surface": [
                      {
                        "colorbar": {
                          "outlinewidth": 0,
                          "ticks": ""
                        },
                        "colorscale": [
                          [
                            0,
                            "#0d0887"
                          ],
                          [
                            0.1111111111111111,
                            "#46039f"
                          ],
                          [
                            0.2222222222222222,
                            "#7201a8"
                          ],
                          [
                            0.3333333333333333,
                            "#9c179e"
                          ],
                          [
                            0.4444444444444444,
                            "#bd3786"
                          ],
                          [
                            0.5555555555555556,
                            "#d8576b"
                          ],
                          [
                            0.6666666666666666,
                            "#ed7953"
                          ],
                          [
                            0.7777777777777778,
                            "#fb9f3a"
                          ],
                          [
                            0.8888888888888888,
                            "#fdca26"
                          ],
                          [
                            1,
                            "#f0f921"
                          ]
                        ],
                        "type": "surface"
                      }
                    ],
                    "table": [
                      {
                        "cells": {
                          "fill": {
                            "color": "#EBF0F8"
                          },
                          "line": {
                            "color": "white"
                          }
                        },
                        "header": {
                          "fill": {
                            "color": "#C8D4E3"
                          },
                          "line": {
                            "color": "white"
                          }
                        },
                        "type": "table"
                      }
                    ]
                  },
                  "layout": {
                    "annotationdefaults": {
                      "arrowcolor": "#2a3f5f",
                      "arrowhead": 0,
                      "arrowwidth": 1
                    },
                    "colorscale": {
                      "diverging": [
                        [
                          0,
                          "#8e0152"
                        ],
                        [
                          0.1,
                          "#c51b7d"
                        ],
                        [
                          0.2,
                          "#de77ae"
                        ],
                        [
                          0.3,
                          "#f1b6da"
                        ],
                        [
                          0.4,
                          "#fde0ef"
                        ],
                        [
                          0.5,
                          "#f7f7f7"
                        ],
                        [
                          0.6,
                          "#e6f5d0"
                        ],
                        [
                          0.7,
                          "#b8e186"
                        ],
                        [
                          0.8,
                          "#7fbc41"
                        ],
                        [
                          0.9,
                          "#4d9221"
                        ],
                        [
                          1,
                          "#276419"
                        ]
                      ],
                      "sequential": [
                        [
                          0,
                          "#0d0887"
                        ],
                        [
                          0.1111111111111111,
                          "#46039f"
                        ],
                        [
                          0.2222222222222222,
                          "#7201a8"
                        ],
                        [
                          0.3333333333333333,
                          "#9c179e"
                        ],
                        [
                          0.4444444444444444,
                          "#bd3786"
                        ],
                        [
                          0.5555555555555556,
                          "#d8576b"
                        ],
                        [
                          0.6666666666666666,
                          "#ed7953"
                        ],
                        [
                          0.7777777777777778,
                          "#fb9f3a"
                        ],
                        [
                          0.8888888888888888,
                          "#fdca26"
                        ],
                        [
                          1,
                          "#f0f921"
                        ]
                      ],
                      "sequentialminus": [
                        [
                          0,
                          "#0d0887"
                        ],
                        [
                          0.1111111111111111,
                          "#46039f"
                        ],
                        [
                          0.2222222222222222,
                          "#7201a8"
                        ],
                        [
                          0.3333333333333333,
                          "#9c179e"
                        ],
                        [
                          0.4444444444444444,
                          "#bd3786"
                        ],
                        [
                          0.5555555555555556,
                          "#d8576b"
                        ],
                        [
                          0.6666666666666666,
                          "#ed7953"
                        ],
                        [
                          0.7777777777777778,
                          "#fb9f3a"
                        ],
                        [
                          0.8888888888888888,
                          "#fdca26"
                        ],
                        [
                          1,
                          "#f0f921"
                        ]
                      ]
                    },
                    "colorway": [
                      "#636efa",
                      "#EF553B",
                      "#00cc96",
                      "#ab63fa",
                      "#FFA15A",
                      "#19d3f3",
                      "#FF6692",
                      "#B6E880",
                      "#FF97FF",
                      "#FECB52"
                    ],
                    "font": {
                      "color": "#2a3f5f"
                    },
                    "geo": {
                      "bgcolor": "white",
                      "lakecolor": "white",
                      "landcolor": "#E5ECF6",
                      "showlakes": true,
                      "showland": true,
                      "subunitcolor": "white"
                    },
                    "hoverlabel": {
                      "align": "left"
                    },
                    "hovermode": "closest",
                    "mapbox": {
                      "style": "light"
                    },
                    "paper_bgcolor": "white",
                    "plot_bgcolor": "#E5ECF6",
                    "polar": {
                      "angularaxis": {
                        "gridcolor": "white",
                        "linecolor": "white",
                        "ticks": ""
                      },
                      "bgcolor": "#E5ECF6",
                      "radialaxis": {
                        "gridcolor": "white",
                        "linecolor": "white",
                        "ticks": ""
                      }
                    },
                    "scene": {
                      "xaxis": {
                        "backgroundcolor": "#E5ECF6",
                        "gridcolor": "white",
                        "gridwidth": 2,
                        "linecolor": "white",
                        "showbackground": true,
                        "ticks": "",
                        "zerolinecolor": "white"
                      },
                      "yaxis": {
                        "backgroundcolor": "#E5ECF6",
                        "gridcolor": "white",
                        "gridwidth": 2,
                        "linecolor": "white",
                        "showbackground": true,
                        "ticks": "",
                        "zerolinecolor": "white"
                      },
                      "zaxis": {
                        "backgroundcolor": "#E5ECF6",
                        "gridcolor": "white",
                        "gridwidth": 2,
                        "linecolor": "white",
                        "showbackground": true,
                        "ticks": "",
                        "zerolinecolor": "white"
                      }
                    },
                    "shapedefaults": {
                      "line": {
                        "color": "#2a3f5f"
                      }
                    },
                    "ternary": {
                      "aaxis": {
                        "gridcolor": "white",
                        "linecolor": "white",
                        "ticks": ""
                      },
                      "baxis": {
                        "gridcolor": "white",
                        "linecolor": "white",
                        "ticks": ""
                      },
                      "bgcolor": "#E5ECF6",
                      "caxis": {
                        "gridcolor": "white",
                        "linecolor": "white",
                        "ticks": ""
                      }
                    },
                    "title": {
                      "x": 0.05
                    },
                    "xaxis": {
                      "automargin": true,
                      "gridcolor": "white",
                      "linecolor": "white",
                      "ticks": "",
                      "zerolinecolor": "white",
                      "zerolinewidth": 2
                    },
                    "yaxis": {
                      "automargin": true,
                      "gridcolor": "white",
                      "linecolor": "white",
                      "ticks": "",
                      "zerolinecolor": "white",
                      "zerolinewidth": 2
                    }
                  }
                },
                "title": {
                  "font": {
                    "size": 16
                  },
                  "text": "Traveling Salesman exact Solution"
                },
                "xaxis": {
                  "showgrid": false,
                  "showticklabels": false,
                  "zeroline": false
                },
                "yaxis": {
                  "showgrid": false,
                  "showticklabels": false,
                  "zeroline": false
                }
              }
            }
          },
          "metadata": {}
        }
      ],
      "execution_count": 268,
      "metadata": {
        "collapsed": false,
        "outputHidden": false,
        "inputHidden": false
      }
    },
    {
      "cell_type": "code",
      "source": [
        "class a:\n",
        "    kaka=\"ba\"\n",
        "    def __init__(self):\n",
        "        self.pipi=\"berk\"\n",
        "        \n",
        "v1=a()\n",
        "a.kaka=\"gg\"\n",
        "v2=a()\n",
        "\n",
        "print(v1.kaka)\n",
        "print(v2.kaka)\n",
        "print (a.kaka)"
      ],
      "outputs": [
        {
          "output_type": "stream",
          "name": "stdout",
          "text": [
            "gg\n",
            "gg\n",
            "gg\n"
          ]
        }
      ],
      "execution_count": 129,
      "metadata": {
        "collapsed": false,
        "outputHidden": false,
        "inputHidden": false
      }
    },
    {
      "cell_type": "code",
      "source": [
        "a=np.zeros(G1.shape)+0.001\n",
        "print(list(range(0,9))/2)"
      ],
      "outputs": [
        {
          "output_type": "error",
          "ename": "TypeError",
          "evalue": "unsupported operand type(s) for /: 'list' and 'int'",
          "traceback": [
            "\u001b[1;31m---------------------------------------------------------------------------\u001b[0m",
            "\u001b[1;31mTypeError\u001b[0m                                 Traceback (most recent call last)",
            "\u001b[1;32m<ipython-input-281-97dc7250606a>\u001b[0m in \u001b[0;36m<module>\u001b[1;34m\u001b[0m\n\u001b[0;32m      1\u001b[0m \u001b[0ma\u001b[0m\u001b[1;33m=\u001b[0m\u001b[0mnp\u001b[0m\u001b[1;33m.\u001b[0m\u001b[0mzeros\u001b[0m\u001b[1;33m(\u001b[0m\u001b[0mG1\u001b[0m\u001b[1;33m.\u001b[0m\u001b[0mshape\u001b[0m\u001b[1;33m)\u001b[0m\u001b[1;33m+\u001b[0m\u001b[1;36m0.001\u001b[0m\u001b[1;33m\u001b[0m\u001b[1;33m\u001b[0m\u001b[0m\n\u001b[1;32m----> 2\u001b[1;33m \u001b[0mprint\u001b[0m\u001b[1;33m(\u001b[0m\u001b[0mlist\u001b[0m\u001b[1;33m(\u001b[0m\u001b[0mrange\u001b[0m\u001b[1;33m(\u001b[0m\u001b[1;36m0\u001b[0m\u001b[1;33m,\u001b[0m\u001b[1;36m9\u001b[0m\u001b[1;33m)\u001b[0m\u001b[1;33m)\u001b[0m\u001b[1;33m/\u001b[0m\u001b[1;36m2\u001b[0m\u001b[1;33m)\u001b[0m\u001b[1;33m\u001b[0m\u001b[1;33m\u001b[0m\u001b[0m\n\u001b[0m",
            "\u001b[1;31mTypeError\u001b[0m: unsupported operand type(s) for /: 'list' and 'int'"
          ]
        }
      ],
      "execution_count": 281,
      "metadata": {
        "collapsed": false,
        "outputHidden": false,
        "inputHidden": false
      }
    },
    {
      "cell_type": "code",
      "source": [
        "print(np.array([1,2])==np.array([1,1]))"
      ],
      "outputs": [
        {
          "output_type": "stream",
          "name": "stdout",
          "text": [
            "[ True False]\n"
          ]
        }
      ],
      "execution_count": 191,
      "metadata": {
        "collapsed": false,
        "outputHidden": false,
        "inputHidden": false
      }
    },
    {
      "cell_type": "code",
      "source": [
        "x= 1 if 0==1 else 2"
      ],
      "outputs": [],
      "execution_count": 198,
      "metadata": {
        "collapsed": false,
        "outputHidden": false,
        "inputHidden": false
      }
    },
    {
      "cell_type": "code",
      "source": [
        "G1=init_array(9)"
      ],
      "outputs": [],
      "execution_count": 200,
      "metadata": {
        "collapsed": false,
        "outputHidden": false,
        "inputHidden": false
      }
    },
    {
      "cell_type": "code",
      "source": [
        "import plotly.graph_objects as go\n",
        "\n",
        "fig = go.Figure()\n",
        "\n",
        "fig.add_trace(go.Scatter(\n",
        "    x=[0, 1, 2, 3, 4, 5, 6, 7, 8],\n",
        "    y=[0, 1, 3, 2, 4, 3, 4, 6, 5]\n",
        "))\n",
        "\n",
        "\n",
        "fig.add_trace(go.Scatter(\n",
        "    x=[0, 1, 2, 3, 4, 5, 6, 7, 8],\n",
        "    y=[0, 4, 5, 1, 2, 2, 3, 4, 2]\n",
        "))\n",
        "\n",
        "fig.update_layout(\n",
        "    showlegend=False,\n",
        "    annotations=[\n",
        "        go.layout.Annotation(\n",
        "            x=2,\n",
        "            y=5,\n",
        "            xref=\"x\",\n",
        "            yref=\"y\",\n",
        "            text=\"dict Text\",\n",
        "            showarrow=True,\n",
        "            arrowhead=7,\n",
        "            ax=0,\n",
        "            ay=-40\n",
        "        ),\n",
        "        go.layout.Annotation(\n",
        "            x=4,\n",
        "            y=5,\n",
        "            xref=\"x\",\n",
        "            yref=\"y\",\n",
        "            #text=\"dict Text 2\",\n",
        "            showarrow=True,\n",
        "            arrowhead=3,\n",
        "            ax=30,\n",
        "            ay=-20\n",
        "        )\n",
        "    ]\n",
        ")\n",
        "\n",
        "fig.show()"
      ],
      "outputs": [
        {
          "output_type": "display_data",
          "data": {
            "application/vnd.plotly.v1+json": {
              "config": {
                "plotlyServerURL": "https://plot.ly"
              },
              "data": [
                {
                  "type": "scatter",
                  "x": [
                    0,
                    1,
                    2,
                    3,
                    4,
                    5,
                    6,
                    7,
                    8
                  ],
                  "y": [
                    0,
                    1,
                    3,
                    2,
                    4,
                    3,
                    4,
                    6,
                    5
                  ]
                },
                {
                  "type": "scatter",
                  "x": [
                    0,
                    1,
                    2,
                    3,
                    4,
                    5,
                    6,
                    7,
                    8
                  ],
                  "y": [
                    0,
                    4,
                    5,
                    1,
                    2,
                    2,
                    3,
                    4,
                    2
                  ]
                }
              ],
              "layout": {
                "annotations": [
                  {
                    "arrowhead": 7,
                    "ax": 0,
                    "ay": -40,
                    "showarrow": true,
                    "text": "dict Text",
                    "x": 2,
                    "xref": "x",
                    "y": 5,
                    "yref": "y"
                  },
                  {
                    "arrowhead": 3,
                    "ax": 30,
                    "ay": -20,
                    "showarrow": true,
                    "x": 4,
                    "xref": "x",
                    "y": 5,
                    "yref": "y"
                  }
                ],
                "showlegend": false,
                "template": {
                  "data": {
                    "bar": [
                      {
                        "error_x": {
                          "color": "#2a3f5f"
                        },
                        "error_y": {
                          "color": "#2a3f5f"
                        },
                        "marker": {
                          "line": {
                            "color": "#E5ECF6",
                            "width": 0.5
                          }
                        },
                        "type": "bar"
                      }
                    ],
                    "barpolar": [
                      {
                        "marker": {
                          "line": {
                            "color": "#E5ECF6",
                            "width": 0.5
                          }
                        },
                        "type": "barpolar"
                      }
                    ],
                    "carpet": [
                      {
                        "aaxis": {
                          "endlinecolor": "#2a3f5f",
                          "gridcolor": "white",
                          "linecolor": "white",
                          "minorgridcolor": "white",
                          "startlinecolor": "#2a3f5f"
                        },
                        "baxis": {
                          "endlinecolor": "#2a3f5f",
                          "gridcolor": "white",
                          "linecolor": "white",
                          "minorgridcolor": "white",
                          "startlinecolor": "#2a3f5f"
                        },
                        "type": "carpet"
                      }
                    ],
                    "choropleth": [
                      {
                        "colorbar": {
                          "outlinewidth": 0,
                          "ticks": ""
                        },
                        "type": "choropleth"
                      }
                    ],
                    "contour": [
                      {
                        "colorbar": {
                          "outlinewidth": 0,
                          "ticks": ""
                        },
                        "colorscale": [
                          [
                            0,
                            "#0d0887"
                          ],
                          [
                            0.1111111111111111,
                            "#46039f"
                          ],
                          [
                            0.2222222222222222,
                            "#7201a8"
                          ],
                          [
                            0.3333333333333333,
                            "#9c179e"
                          ],
                          [
                            0.4444444444444444,
                            "#bd3786"
                          ],
                          [
                            0.5555555555555556,
                            "#d8576b"
                          ],
                          [
                            0.6666666666666666,
                            "#ed7953"
                          ],
                          [
                            0.7777777777777778,
                            "#fb9f3a"
                          ],
                          [
                            0.8888888888888888,
                            "#fdca26"
                          ],
                          [
                            1,
                            "#f0f921"
                          ]
                        ],
                        "type": "contour"
                      }
                    ],
                    "contourcarpet": [
                      {
                        "colorbar": {
                          "outlinewidth": 0,
                          "ticks": ""
                        },
                        "type": "contourcarpet"
                      }
                    ],
                    "heatmap": [
                      {
                        "colorbar": {
                          "outlinewidth": 0,
                          "ticks": ""
                        },
                        "colorscale": [
                          [
                            0,
                            "#0d0887"
                          ],
                          [
                            0.1111111111111111,
                            "#46039f"
                          ],
                          [
                            0.2222222222222222,
                            "#7201a8"
                          ],
                          [
                            0.3333333333333333,
                            "#9c179e"
                          ],
                          [
                            0.4444444444444444,
                            "#bd3786"
                          ],
                          [
                            0.5555555555555556,
                            "#d8576b"
                          ],
                          [
                            0.6666666666666666,
                            "#ed7953"
                          ],
                          [
                            0.7777777777777778,
                            "#fb9f3a"
                          ],
                          [
                            0.8888888888888888,
                            "#fdca26"
                          ],
                          [
                            1,
                            "#f0f921"
                          ]
                        ],
                        "type": "heatmap"
                      }
                    ],
                    "heatmapgl": [
                      {
                        "colorbar": {
                          "outlinewidth": 0,
                          "ticks": ""
                        },
                        "colorscale": [
                          [
                            0,
                            "#0d0887"
                          ],
                          [
                            0.1111111111111111,
                            "#46039f"
                          ],
                          [
                            0.2222222222222222,
                            "#7201a8"
                          ],
                          [
                            0.3333333333333333,
                            "#9c179e"
                          ],
                          [
                            0.4444444444444444,
                            "#bd3786"
                          ],
                          [
                            0.5555555555555556,
                            "#d8576b"
                          ],
                          [
                            0.6666666666666666,
                            "#ed7953"
                          ],
                          [
                            0.7777777777777778,
                            "#fb9f3a"
                          ],
                          [
                            0.8888888888888888,
                            "#fdca26"
                          ],
                          [
                            1,
                            "#f0f921"
                          ]
                        ],
                        "type": "heatmapgl"
                      }
                    ],
                    "histogram": [
                      {
                        "marker": {
                          "colorbar": {
                            "outlinewidth": 0,
                            "ticks": ""
                          }
                        },
                        "type": "histogram"
                      }
                    ],
                    "histogram2d": [
                      {
                        "colorbar": {
                          "outlinewidth": 0,
                          "ticks": ""
                        },
                        "colorscale": [
                          [
                            0,
                            "#0d0887"
                          ],
                          [
                            0.1111111111111111,
                            "#46039f"
                          ],
                          [
                            0.2222222222222222,
                            "#7201a8"
                          ],
                          [
                            0.3333333333333333,
                            "#9c179e"
                          ],
                          [
                            0.4444444444444444,
                            "#bd3786"
                          ],
                          [
                            0.5555555555555556,
                            "#d8576b"
                          ],
                          [
                            0.6666666666666666,
                            "#ed7953"
                          ],
                          [
                            0.7777777777777778,
                            "#fb9f3a"
                          ],
                          [
                            0.8888888888888888,
                            "#fdca26"
                          ],
                          [
                            1,
                            "#f0f921"
                          ]
                        ],
                        "type": "histogram2d"
                      }
                    ],
                    "histogram2dcontour": [
                      {
                        "colorbar": {
                          "outlinewidth": 0,
                          "ticks": ""
                        },
                        "colorscale": [
                          [
                            0,
                            "#0d0887"
                          ],
                          [
                            0.1111111111111111,
                            "#46039f"
                          ],
                          [
                            0.2222222222222222,
                            "#7201a8"
                          ],
                          [
                            0.3333333333333333,
                            "#9c179e"
                          ],
                          [
                            0.4444444444444444,
                            "#bd3786"
                          ],
                          [
                            0.5555555555555556,
                            "#d8576b"
                          ],
                          [
                            0.6666666666666666,
                            "#ed7953"
                          ],
                          [
                            0.7777777777777778,
                            "#fb9f3a"
                          ],
                          [
                            0.8888888888888888,
                            "#fdca26"
                          ],
                          [
                            1,
                            "#f0f921"
                          ]
                        ],
                        "type": "histogram2dcontour"
                      }
                    ],
                    "mesh3d": [
                      {
                        "colorbar": {
                          "outlinewidth": 0,
                          "ticks": ""
                        },
                        "type": "mesh3d"
                      }
                    ],
                    "parcoords": [
                      {
                        "line": {
                          "colorbar": {
                            "outlinewidth": 0,
                            "ticks": ""
                          }
                        },
                        "type": "parcoords"
                      }
                    ],
                    "scatter": [
                      {
                        "marker": {
                          "colorbar": {
                            "outlinewidth": 0,
                            "ticks": ""
                          }
                        },
                        "type": "scatter"
                      }
                    ],
                    "scatter3d": [
                      {
                        "line": {
                          "colorbar": {
                            "outlinewidth": 0,
                            "ticks": ""
                          }
                        },
                        "marker": {
                          "colorbar": {
                            "outlinewidth": 0,
                            "ticks": ""
                          }
                        },
                        "type": "scatter3d"
                      }
                    ],
                    "scattercarpet": [
                      {
                        "marker": {
                          "colorbar": {
                            "outlinewidth": 0,
                            "ticks": ""
                          }
                        },
                        "type": "scattercarpet"
                      }
                    ],
                    "scattergeo": [
                      {
                        "marker": {
                          "colorbar": {
                            "outlinewidth": 0,
                            "ticks": ""
                          }
                        },
                        "type": "scattergeo"
                      }
                    ],
                    "scattergl": [
                      {
                        "marker": {
                          "colorbar": {
                            "outlinewidth": 0,
                            "ticks": ""
                          }
                        },
                        "type": "scattergl"
                      }
                    ],
                    "scattermapbox": [
                      {
                        "marker": {
                          "colorbar": {
                            "outlinewidth": 0,
                            "ticks": ""
                          }
                        },
                        "type": "scattermapbox"
                      }
                    ],
                    "scatterpolar": [
                      {
                        "marker": {
                          "colorbar": {
                            "outlinewidth": 0,
                            "ticks": ""
                          }
                        },
                        "type": "scatterpolar"
                      }
                    ],
                    "scatterpolargl": [
                      {
                        "marker": {
                          "colorbar": {
                            "outlinewidth": 0,
                            "ticks": ""
                          }
                        },
                        "type": "scatterpolargl"
                      }
                    ],
                    "scatterternary": [
                      {
                        "marker": {
                          "colorbar": {
                            "outlinewidth": 0,
                            "ticks": ""
                          }
                        },
                        "type": "scatterternary"
                      }
                    ],
                    "surface": [
                      {
                        "colorbar": {
                          "outlinewidth": 0,
                          "ticks": ""
                        },
                        "colorscale": [
                          [
                            0,
                            "#0d0887"
                          ],
                          [
                            0.1111111111111111,
                            "#46039f"
                          ],
                          [
                            0.2222222222222222,
                            "#7201a8"
                          ],
                          [
                            0.3333333333333333,
                            "#9c179e"
                          ],
                          [
                            0.4444444444444444,
                            "#bd3786"
                          ],
                          [
                            0.5555555555555556,
                            "#d8576b"
                          ],
                          [
                            0.6666666666666666,
                            "#ed7953"
                          ],
                          [
                            0.7777777777777778,
                            "#fb9f3a"
                          ],
                          [
                            0.8888888888888888,
                            "#fdca26"
                          ],
                          [
                            1,
                            "#f0f921"
                          ]
                        ],
                        "type": "surface"
                      }
                    ],
                    "table": [
                      {
                        "cells": {
                          "fill": {
                            "color": "#EBF0F8"
                          },
                          "line": {
                            "color": "white"
                          }
                        },
                        "header": {
                          "fill": {
                            "color": "#C8D4E3"
                          },
                          "line": {
                            "color": "white"
                          }
                        },
                        "type": "table"
                      }
                    ]
                  },
                  "layout": {
                    "annotationdefaults": {
                      "arrowcolor": "#2a3f5f",
                      "arrowhead": 0,
                      "arrowwidth": 1
                    },
                    "colorscale": {
                      "diverging": [
                        [
                          0,
                          "#8e0152"
                        ],
                        [
                          0.1,
                          "#c51b7d"
                        ],
                        [
                          0.2,
                          "#de77ae"
                        ],
                        [
                          0.3,
                          "#f1b6da"
                        ],
                        [
                          0.4,
                          "#fde0ef"
                        ],
                        [
                          0.5,
                          "#f7f7f7"
                        ],
                        [
                          0.6,
                          "#e6f5d0"
                        ],
                        [
                          0.7,
                          "#b8e186"
                        ],
                        [
                          0.8,
                          "#7fbc41"
                        ],
                        [
                          0.9,
                          "#4d9221"
                        ],
                        [
                          1,
                          "#276419"
                        ]
                      ],
                      "sequential": [
                        [
                          0,
                          "#0d0887"
                        ],
                        [
                          0.1111111111111111,
                          "#46039f"
                        ],
                        [
                          0.2222222222222222,
                          "#7201a8"
                        ],
                        [
                          0.3333333333333333,
                          "#9c179e"
                        ],
                        [
                          0.4444444444444444,
                          "#bd3786"
                        ],
                        [
                          0.5555555555555556,
                          "#d8576b"
                        ],
                        [
                          0.6666666666666666,
                          "#ed7953"
                        ],
                        [
                          0.7777777777777778,
                          "#fb9f3a"
                        ],
                        [
                          0.8888888888888888,
                          "#fdca26"
                        ],
                        [
                          1,
                          "#f0f921"
                        ]
                      ],
                      "sequentialminus": [
                        [
                          0,
                          "#0d0887"
                        ],
                        [
                          0.1111111111111111,
                          "#46039f"
                        ],
                        [
                          0.2222222222222222,
                          "#7201a8"
                        ],
                        [
                          0.3333333333333333,
                          "#9c179e"
                        ],
                        [
                          0.4444444444444444,
                          "#bd3786"
                        ],
                        [
                          0.5555555555555556,
                          "#d8576b"
                        ],
                        [
                          0.6666666666666666,
                          "#ed7953"
                        ],
                        [
                          0.7777777777777778,
                          "#fb9f3a"
                        ],
                        [
                          0.8888888888888888,
                          "#fdca26"
                        ],
                        [
                          1,
                          "#f0f921"
                        ]
                      ]
                    },
                    "colorway": [
                      "#636efa",
                      "#EF553B",
                      "#00cc96",
                      "#ab63fa",
                      "#FFA15A",
                      "#19d3f3",
                      "#FF6692",
                      "#B6E880",
                      "#FF97FF",
                      "#FECB52"
                    ],
                    "font": {
                      "color": "#2a3f5f"
                    },
                    "geo": {
                      "bgcolor": "white",
                      "lakecolor": "white",
                      "landcolor": "#E5ECF6",
                      "showlakes": true,
                      "showland": true,
                      "subunitcolor": "white"
                    },
                    "hoverlabel": {
                      "align": "left"
                    },
                    "hovermode": "closest",
                    "mapbox": {
                      "style": "light"
                    },
                    "paper_bgcolor": "white",
                    "plot_bgcolor": "#E5ECF6",
                    "polar": {
                      "angularaxis": {
                        "gridcolor": "white",
                        "linecolor": "white",
                        "ticks": ""
                      },
                      "bgcolor": "#E5ECF6",
                      "radialaxis": {
                        "gridcolor": "white",
                        "linecolor": "white",
                        "ticks": ""
                      }
                    },
                    "scene": {
                      "xaxis": {
                        "backgroundcolor": "#E5ECF6",
                        "gridcolor": "white",
                        "gridwidth": 2,
                        "linecolor": "white",
                        "showbackground": true,
                        "ticks": "",
                        "zerolinecolor": "white"
                      },
                      "yaxis": {
                        "backgroundcolor": "#E5ECF6",
                        "gridcolor": "white",
                        "gridwidth": 2,
                        "linecolor": "white",
                        "showbackground": true,
                        "ticks": "",
                        "zerolinecolor": "white"
                      },
                      "zaxis": {
                        "backgroundcolor": "#E5ECF6",
                        "gridcolor": "white",
                        "gridwidth": 2,
                        "linecolor": "white",
                        "showbackground": true,
                        "ticks": "",
                        "zerolinecolor": "white"
                      }
                    },
                    "shapedefaults": {
                      "line": {
                        "color": "#2a3f5f"
                      }
                    },
                    "ternary": {
                      "aaxis": {
                        "gridcolor": "white",
                        "linecolor": "white",
                        "ticks": ""
                      },
                      "baxis": {
                        "gridcolor": "white",
                        "linecolor": "white",
                        "ticks": ""
                      },
                      "bgcolor": "#E5ECF6",
                      "caxis": {
                        "gridcolor": "white",
                        "linecolor": "white",
                        "ticks": ""
                      }
                    },
                    "title": {
                      "x": 0.05
                    },
                    "xaxis": {
                      "automargin": true,
                      "gridcolor": "white",
                      "linecolor": "white",
                      "ticks": "",
                      "zerolinecolor": "white",
                      "zerolinewidth": 2
                    },
                    "yaxis": {
                      "automargin": true,
                      "gridcolor": "white",
                      "linecolor": "white",
                      "ticks": "",
                      "zerolinecolor": "white",
                      "zerolinewidth": 2
                    }
                  }
                }
              }
            }
          },
          "metadata": {}
        }
      ],
      "execution_count": 232,
      "metadata": {
        "collapsed": false,
        "outputHidden": false,
        "inputHidden": false
      }
    }
  ],
  "metadata": {
    "kernel_info": {
      "name": "python3"
    },
    "language_info": {
      "name": "python",
      "version": "3.6.8",
      "mimetype": "text/x-python",
      "codemirror_mode": {
        "name": "ipython",
        "version": 3
      },
      "pygments_lexer": "ipython3",
      "nbconvert_exporter": "python",
      "file_extension": ".py"
    },
    "kernelspec": {
      "name": "python3",
      "language": "python",
      "display_name": "Python 3"
    },
    "nteract": {
      "version": "0.15.0"
    }
  },
  "nbformat": 4,
  "nbformat_minor": 0
}
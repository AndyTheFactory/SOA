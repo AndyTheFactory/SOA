{
  "cells": [
    {
      "cell_type": "code",
      "source": [
        "import numpy as np\n",
        "import sys\n",
        "import plotly.graph_objects as go\n",
        "import matplotlib.pyplot as plt\n",
        "\n",
        "import networkx as nx\n",
        "\n",
        "global G1,G2,G3\n",
        "\n",
        "\n",
        "def init_array(size):\n",
        "    A = np.random.randint(100, size=(9, 9))\n",
        "    np.fill_diagonal(A, 0)\n",
        "    A=np.triu(A) + np.tril(A.T)\n",
        "    return A\n",
        "\n",
        "\n",
        "def TSP(Graph,S,destination):\n",
        "    if (len(S)==2):\n",
        "        lS=list(S)\n",
        "        return list([(1,destination)]), Graph[lS[0],lS[1]]\n",
        "    else:\n",
        "        min_dist=999\n",
        "        min_node=-1\n",
        "        min_way=list()\n",
        "        for _,node in enumerate(S):\n",
        "            if (node != 1 and node != destination):\n",
        "                w,d=TSP(Graph,S.difference(set([node])),node)\n",
        "                d+=Graph[node-1,destination-1]\n",
        "                if d<min_dist:\n",
        "                    min_dist=d\n",
        "                    min_node=node\n",
        "                    min_way=w\n",
        "                    min_way.append((node,destination))\n",
        "        return min_way,min_dist\n",
        "def getTSP(G):\n",
        "    nodecount=len(G[0])\n",
        "    return TSP(G,set(range(1,nodecount)),nodecount)\n",
        "\n",
        "G1=init_array(9)\n",
        "G2=init_array(10)\n",
        "G3=init_array(11)\n"
      ],
      "outputs": [],
      "execution_count": 107,
      "metadata": {
        "collapsed": false,
        "outputHidden": false,
        "inputHidden": false
      }
    },
    {
      "cell_type": "code",
      "source": [
        "print(getTSP(G1))"
      ],
      "outputs": [
        {
          "output_type": "stream",
          "name": "stdout",
          "text": [
            "([(1, 3), (3, 7), (7, 6), (6, 4), (4, 8), (8, 5), (5, 9)], 168)\n"
          ]
        }
      ],
      "execution_count": 108,
      "metadata": {
        "collapsed": false,
        "outputHidden": false,
        "inputHidden": false
      }
    },
    {
      "cell_type": "code",
      "source": [
        "k=list([(1,2)])\n",
        "print(k)"
      ],
      "outputs": [
        {
          "output_type": "stream",
          "name": "stdout",
          "text": [
            "[(1, 2)]\n"
          ]
        }
      ],
      "execution_count": 67,
      "metadata": {
        "collapsed": false,
        "outputHidden": false,
        "inputHidden": false
      }
    },
    {
      "cell_type": "code",
      "source": [
        "print(np.version.full_version)\n"
      ],
      "outputs": [
        {
          "output_type": "stream",
          "name": "stdout",
          "text": [
            "1.16.4\n"
          ]
        }
      ],
      "execution_count": 73,
      "metadata": {
        "collapsed": false,
        "outputHidden": false,
        "inputHidden": false
      }
    },
    {
      "cell_type": "code",
      "source": [
        "import pkg_resources\n",
        "from subprocess import call\n",
        "\n",
        "packages = [dist.project_name for dist in pkg_resources.working_set]\n",
        "call(\"pip install --upgrade \" + ' '.join(packages), shell=True)"
      ],
      "outputs": [
        {
          "output_type": "execute_result",
          "execution_count": 74,
          "data": {
            "text/plain": [
              "2"
            ]
          },
          "metadata": {}
        }
      ],
      "execution_count": 74,
      "metadata": {
        "collapsed": false,
        "outputHidden": false,
        "inputHidden": false
      }
    },
    {
      "cell_type": "code",
      "source": [
        "%matplotlib inline\n",
        "%config InlineBackend.print_figure_kwargs = {'bbox_inches':None}\n",
        "%config InlineBackend.rc = {'font.size': 10, 'figure.figsize': (10.0, 6.0), 'figure.facecolor': (1, 1, 1, 0), 'figure.subplot.bottom': 0.125, 'figure.edgecolor': (1, 1, 1, 0), 'figure.dpi': 72}\n",
        "\n",
        "import matplotlib as mpl\n",
        "mpl.rcParams['savefig.dpi'] = 80\n",
        "mpl.rcParams['figure.dpi'] = 80\n",
        "G = nx.from_numpy_array(G1)\n",
        "G.edges(data=True)\n",
        "G.remove_edge(1,2)\n",
        "G.add_edge(1,2,color='red',weight=2)\n",
        "\n",
        "pos = nx.spring_layout(G)\n",
        "e_labels={}\n",
        "for e in G.edges():\n",
        "    e_labels[e]=G1[e[0],e[1]]\n",
        "nx.draw(G,node_size=500,node_color='pink',alpha=0.9,labels={node:node for node in G.nodes()})\n",
        "nx.draw_networkx_edge_labels(G,pos,edge_labels=e_labels,font_color='red')    \n",
        "#fig=plt.figure(figsize=(18, 16), dpi= 80, facecolor='w', edgecolor='k')\n",
        "\n",
        "plt.show()"
      ],
      "outputs": [
        {
          "output_type": "display_data",
          "data": {
            "text/plain": [
              "<Figure size 800x480 with 1 Axes>"
            ],
            "image/png": "[encoded data removed]"
          },
          "metadata": {}
        }
      ],
      "execution_count": 26,
      "metadata": {
        "collapsed": false,
        "outputHidden": false,
        "inputHidden": false
      }
    },
    {
      "cell_type": "code",
      "source": [
        "import plotly.graph_objects as go\n",
        "\n"
      ],
      "outputs": [
        {
          "output_type": "error",
          "ename": "AttributeError",
          "evalue": "'EdgeView' object has no attribute 'next'",
          "traceback": [
            "\u001b[1;31m---------------------------------------------------------------------------\u001b[0m",
            "\u001b[1;31mAttributeError\u001b[0m                            Traceback (most recent call last)",
            "\u001b[1;32m<ipython-input-16-b825fad4cdf8>\u001b[0m in \u001b[0;36m<module>\u001b[1;34m\u001b[0m\n\u001b[1;32m----> 1\u001b[1;33m \u001b[0mG\u001b[0m\u001b[1;33m.\u001b[0m\u001b[0medges\u001b[0m\u001b[1;33m.\u001b[0m\u001b[0mnext\u001b[0m\u001b[1;33m(\u001b[0m\u001b[1;33m)\u001b[0m\u001b[1;33m\u001b[0m\u001b[1;33m\u001b[0m\u001b[0m\n\u001b[0m",
            "\u001b[1;31mAttributeError\u001b[0m: 'EdgeView' object has no attribute 'next'"
          ]
        }
      ],
      "execution_count": 16,
      "metadata": {
        "collapsed": false,
        "outputHidden": false,
        "inputHidden": false
      }
    },
    {
      "cell_type": "code",
      "source": [
        "for \n",
        "edges=[['A','B'],['B','C'],['B','D']]\n",
        "G=nx.Graph()\n",
        "G.add_edges_from(edges)\n",
        "pos = nx.spring_layout(G)\n",
        "plt.figure()    \n",
        "nx.draw(G,pos,edge_color='black',width=1,linewidths=1,\\\n",
        "node_size=500,node_color='pink',alpha=0.9,\\\n",
        "labels={node:node for node in G.nodes()})\n",
        "nx.draw_networkx_edge_labels(G,pos,edge_labels={('A','B'):'AB',('B','C'):'BC',('B','D'):'BD'},font_color='red')\n",
        "plt.axis('off')\n",
        "plt.show()"
      ],
      "outputs": [
        {
          "output_type": "display_data",
          "data": {
            "text/plain": [
              "<Figure size 480x320 with 1 Axes>"
            ],
            "image/png": "[encoded data removed]"
          },
          "metadata": {}
        }
      ],
      "execution_count": 90,
      "metadata": {
        "collapsed": false,
        "outputHidden": false,
        "inputHidden": false
      }
    },
    {
      "cell_type": "code",
      "source": [
        "pos = nx.spring_layout(G)\n",
        "print(pos)"
      ],
      "outputs": [
        {
          "output_type": "stream",
          "name": "stdout",
          "text": [
            "{0: array([0.23381748, 0.68255002]), 1: array([-0.88006713, -0.16779894]), 2: array([-0.48461689, -0.11464186]), 3: array([ 0.42860409, -0.49396444]), 4: array([-0.33832643,  0.4159952 ]), 5: array([-0.25241636, -0.58679546]), 6: array([-0.00737773, -0.00608525]), 7: array([0.30038296, 0.19258719]), 8: array([1.        , 0.07815355])}\n"
          ]
        }
      ],
      "execution_count": 34,
      "metadata": {
        "collapsed": false,
        "outputHidden": false,
        "inputHidden": false
      }
    },
    {
      "cell_type": "code",
      "source": [
        "import plotly.graph_objects as go\n",
        "\n",
        "import networkx as nx\n",
        "\n",
        "way,way_len=getTSP(G1)\n",
        "\n",
        "G = nx.from_numpy_array(G1)\n",
        "G.edges(data=True)\n",
        "pos = nx.circular_layout(G)\n",
        "\n",
        "\n",
        "edge_label_trace = go.Scatter(\n",
        "    x=[],\n",
        "    y=[],\n",
        "    text=[],\n",
        "    textposition='middle center',\n",
        "    mode='markers+text',\n",
        "    hoverinfo='none',\n",
        "    marker=go.scatter.Marker(\n",
        "        opacity=0\n",
        "    ),\n",
        "    textfont=dict(size=9, color='blue')\n",
        ")\n",
        "\n",
        "\n",
        "edge_x = []\n",
        "edge_y = []\n",
        "for edge in G.edges():\n",
        "    x0, y0 = pos[edge[0]]\n",
        "    x1, y1 = pos[edge[1]]\n",
        "    edge_x.append(x0)\n",
        "    edge_x.append(x1)\n",
        "    edge_x.append(None)\n",
        "    edge_y.append(y0)\n",
        "    edge_y.append(y1)\n",
        "    edge_y.append(None)\n",
        "    \n",
        "    #invisible node at middle of edges to place edge labels\n",
        "    edge_label_trace['x']+=((x0+x1)/2,)\n",
        "    edge_label_trace['y']+=((y0+y1)/2,)\n",
        "    edge_label_trace['text']+=(G1[edge[0]][edge[1]],)\n",
        "        \n",
        "edge_trace = go.Scatter(\n",
        "    x=edge_x, y=edge_y,\n",
        "    line=dict(width=0.5, color='#888'),\n",
        "    hoverinfo='none',\n",
        "    mode='lines')\n",
        "\n",
        "way_x = []\n",
        "way_y = []\n",
        "for w in way:\n",
        "    x0, y0 = pos[w[0]-1]\n",
        "    x1, y1 = pos[w[1]-1]\n",
        "    way_x.append(x0)\n",
        "    way_x.append(x1)\n",
        "    way_x.append(None)\n",
        "    way_y.append(y0)\n",
        "    way_y.append(y1)\n",
        "    way_y.append(None)\n",
        "    \n",
        "way_trace = go.Scatter(\n",
        "    x=way_x, y=way_y,\n",
        "    line=dict(width=2, color='#F00'),\n",
        "    hoverinfo='none',\n",
        "    mode='lines')\n",
        "\n",
        "\n",
        "node_x = []\n",
        "node_y = []\n",
        "for node in G.nodes():\n",
        "    x, y = pos[node]\n",
        "    node_x.append(x)\n",
        "    node_y.append(y)\n",
        "\n",
        "node_trace = go.Scatter(\n",
        "    x=node_x, y=node_y,\n",
        "    mode='markers+text',\n",
        "    hoverinfo='none',\n",
        "    textposition='middle center',\n",
        "    marker=dict(\n",
        "        showscale=False,\n",
        "        # colorscale options\n",
        "        #'Greys' | 'YlGnBu' | 'Greens' | 'YlOrRd' | 'Bluered' | 'RdBu' |\n",
        "        #'Reds' | 'Blues' | 'Picnic' | 'Rainbow' | 'Portland' | 'Jet' |\n",
        "        #'Hot' | 'Blackbody' | 'Earth' | 'Electric' | 'Viridis' |\n",
        "        colorscale='Earth',\n",
        "        reversescale=True,\n",
        "        color='#FFF',\n",
        "        size=25,\n",
        "        line_width=2))\n",
        "node_trace.text = [x+1 for x in list(G.nodes())]\n",
        "\n",
        "\n",
        "\n",
        "fig = go.Figure(data=[edge_trace, node_trace,edge_label_trace,way_trace],\n",
        "             layout=go.Layout(\n",
        "                title='Traveling Salesman exact Solution',\n",
        "                titlefont_size=16,\n",
        "                showlegend=False,\n",
        "                hovermode='closest',\n",
        "                margin=dict(b=20,l=5,r=5,t=40),\n",
        "                annotations=[ dict(\n",
        "                    text=(\"Traveling Salesman result : %s, Length=%d\" % (way,way_len)),\n",
        "                    showarrow=False,\n",
        "                    xref=\"paper\", yref=\"paper\",\n",
        "                    x=0.005, y=-0.002 ) ],\n",
        "                xaxis=dict(showgrid=False, zeroline=False, showticklabels=False),\n",
        "                yaxis=dict(showgrid=False, zeroline=False, showticklabels=False))\n",
        "                )\n",
        "fig.show()"
      ],
      "outputs": [
        {
          "output_type": "display_data",
          "data": {
            "application/vnd.plotly.v1+json": {
              "config": {
                "plotlyServerURL": "https://plot.ly"
              },
              "data": [
                {
                  "hoverinfo": "none",
                  "line": {
                    "color": "#888",
                    "width": 0.5
                  },
                  "mode": "lines",
                  "type": "scatter",
                  "x": [
                    1,
                    0.7660444398220675,
                    null,
                    1,
                    0.17364823012179612,
                    null,
                    1,
                    -0.5000000471870102,
                    null,
                    1,
                    -0.939692600405112,
                    null,
                    1,
                    -0.939692600405112,
                    null,
                    1,
                    -0.4999998981753994,
                    null,
                    1,
                    0.17364815561599076,
                    null,
                    1,
                    0.7660443206127789,
                    null,
                    0.7660444398220675,
                    0.17364823012179612,
                    null,
                    0.7660444398220675,
                    -0.5000000471870102,
                    null,
                    0.7660444398220675,
                    -0.939692600405112,
                    null,
                    0.7660444398220675,
                    -0.939692600405112,
                    null,
                    0.7660444398220675,
                    -0.4999998981753994,
                    null,
                    0.7660444398220675,
                    0.17364815561599076,
                    null,
                    0.7660444398220675,
                    0.7660443206127789,
                    null,
                    0.17364823012179612,
                    -0.5000000471870102,
                    null,
                    0.17364823012179612,
                    -0.939692600405112,
                    null,
                    0.17364823012179612,
                    -0.939692600405112,
                    null,
                    0.17364823012179612,
                    -0.4999998981753994,
                    null,
                    0.17364823012179612,
                    0.17364815561599076,
                    null,
                    0.17364823012179612,
                    0.7660443206127789,
                    null,
                    -0.5000000471870102,
                    -0.939692600405112,
                    null,
                    -0.5000000471870102,
                    -0.939692600405112,
                    null,
                    -0.5000000471870102,
                    -0.4999998981753994,
                    null,
                    -0.5000000471870102,
                    0.17364815561599076,
                    null,
                    -0.5000000471870102,
                    0.7660443206127789,
                    null,
                    -0.939692600405112,
                    -0.939692600405112,
                    null,
                    -0.939692600405112,
                    -0.4999998981753994,
                    null,
                    -0.939692600405112,
                    0.17364815561599076,
                    null,
                    -0.939692600405112,
                    0.7660443206127789,
                    null,
                    -0.939692600405112,
                    0.17364815561599076,
                    null,
                    -0.939692600405112,
                    0.7660443206127789,
                    null,
                    -0.4999998981753994,
                    0.17364815561599076,
                    null,
                    -0.4999998981753994,
                    0.7660443206127789,
                    null,
                    0.17364815561599076,
                    0.7660443206127789,
                    null
                  ],
                  "y": [
                    1.9868214760652724e-8,
                    0.6427875902686883,
                    null,
                    1.9868214760652724e-8,
                    0.9848077414366294,
                    null,
                    1.9868214760652724e-8,
                    0.8660254009397047,
                    null,
                    1.9868214760652724e-8,
                    0.3420202306408002,
                    null,
                    1.9868214760652724e-8,
                    -0.34202013129972647,
                    null,
                    1.9868214760652724e-8,
                    -0.8660254208079194,
                    null,
                    1.9868214760652724e-8,
                    -0.9848077017001998,
                    null,
                    1.9868214760652724e-8,
                    -0.6427877293461915,
                    null,
                    0.6427875902686883,
                    0.9848077414366294,
                    null,
                    0.6427875902686883,
                    0.8660254009397047,
                    null,
                    0.6427875902686883,
                    0.3420202306408002,
                    null,
                    0.6427875902686883,
                    -0.34202013129972647,
                    null,
                    0.6427875902686883,
                    -0.8660254208079194,
                    null,
                    0.6427875902686883,
                    -0.9848077017001998,
                    null,
                    0.6427875902686883,
                    -0.6427877293461915,
                    null,
                    0.9848077414366294,
                    0.8660254009397047,
                    null,
                    0.9848077414366294,
                    0.3420202306408002,
                    null,
                    0.9848077414366294,
                    -0.34202013129972647,
                    null,
                    0.9848077414366294,
                    -0.8660254208079194,
                    null,
                    0.9848077414366294,
                    -0.9848077017001998,
                    null,
                    0.9848077414366294,
                    -0.6427877293461915,
                    null,
                    0.8660254009397047,
                    0.3420202306408002,
                    null,
                    0.8660254009397047,
                    -0.34202013129972647,
                    null,
                    0.8660254009397047,
                    -0.8660254208079194,
                    null,
                    0.8660254009397047,
                    -0.9848077017001998,
                    null,
                    0.8660254009397047,
                    -0.6427877293461915,
                    null,
                    0.3420202306408002,
                    -0.34202013129972647,
                    null,
                    0.3420202306408002,
                    -0.8660254208079194,
                    null,
                    0.3420202306408002,
                    -0.9848077017001998,
                    null,
                    0.3420202306408002,
                    -0.6427877293461915,
                    null,
                    -0.34202013129972647,
                    -0.9848077017001998,
                    null,
                    -0.34202013129972647,
                    -0.6427877293461915,
                    null,
                    -0.8660254208079194,
                    -0.9848077017001998,
                    null,
                    -0.8660254208079194,
                    -0.6427877293461915,
                    null,
                    -0.9848077017001998,
                    -0.6427877293461915,
                    null
                  ]
                },
                {
                  "hoverinfo": "none",
                  "marker": {
                    "color": "#FFF",
                    "colorscale": [
                      [
                        0,
                        "rgb(161, 105, 40)"
                      ],
                      [
                        0.16666666666666666,
                        "rgb(189, 146, 90)"
                      ],
                      [
                        0.3333333333333333,
                        "rgb(214, 189, 141)"
                      ],
                      [
                        0.5,
                        "rgb(237, 234, 194)"
                      ],
                      [
                        0.6666666666666666,
                        "rgb(181, 200, 184)"
                      ],
                      [
                        0.8333333333333334,
                        "rgb(121, 167, 172)"
                      ],
                      [
                        1,
                        "rgb(40, 135, 161)"
                      ]
                    ],
                    "line": {
                      "width": 2
                    },
                    "reversescale": true,
                    "showscale": false,
                    "size": 25
                  },
                  "mode": "markers+text",
                  "text": [
                    "1",
                    "2",
                    "3",
                    "4",
                    "5",
                    "6",
                    "7",
                    "8",
                    "9"
                  ],
                  "textposition": "middle center",
                  "type": "scatter",
                  "x": [
                    1,
                    0.7660444398220675,
                    0.17364823012179612,
                    -0.5000000471870102,
                    -0.939692600405112,
                    -0.939692600405112,
                    -0.4999998981753994,
                    0.17364815561599076,
                    0.7660443206127789
                  ],
                  "y": [
                    1.9868214760652724e-8,
                    0.6427875902686883,
                    0.9848077414366294,
                    0.8660254009397047,
                    0.3420202306408002,
                    -0.34202013129972647,
                    -0.8660254208079194,
                    -0.9848077017001998,
                    -0.6427877293461915
                  ]
                },
                {
                  "hoverinfo": "none",
                  "marker": {
                    "opacity": 0
                  },
                  "mode": "markers+text",
                  "text": [
                    "92",
                    "94",
                    "37",
                    "43",
                    "20",
                    "15",
                    "43",
                    "57",
                    "67",
                    "96",
                    "70",
                    "91",
                    "63",
                    "13",
                    "29",
                    "67",
                    "78",
                    "97",
                    "22",
                    "76",
                    "30",
                    "45",
                    "41",
                    "10",
                    "24",
                    "95",
                    "57",
                    "50",
                    "13",
                    "1",
                    "99",
                    "5",
                    "14",
                    "20",
                    "84"
                  ],
                  "textfont": {
                    "color": "blue",
                    "size": 9
                  },
                  "textposition": "middle center",
                  "type": "scatter",
                  "x": [
                    0.8830222199110338,
                    0.586824115060898,
                    0.2499999764064949,
                    0.030153699797443978,
                    0.030153699797443978,
                    0.25000005091230026,
                    0.5868240778079954,
                    0.8830221603063895,
                    0.4698463349719318,
                    0.13302219631752865,
                    -0.08682408029152228,
                    -0.08682408029152228,
                    0.13302227082333404,
                    0.46984629771902914,
                    0.7660443802174233,
                    -0.16317590853260705,
                    -0.383022185141658,
                    -0.383022185141658,
                    -0.16317583402680164,
                    0.17364819286889344,
                    0.4698462753672875,
                    -0.7198463237960611,
                    -0.7198463237960611,
                    -0.4999999726812048,
                    -0.1631759457855097,
                    0.13302213671288438,
                    -0.939692600405112,
                    -0.7198462492902558,
                    -0.38302222239456063,
                    -0.08682413989616655,
                    -0.38302222239456063,
                    -0.08682413989616655,
                    -0.16317587127970434,
                    0.13302221121868976,
                    0.46984623811438486
                  ],
                  "y": [
                    0.3213938050684515,
                    0.4924038806524221,
                    0.4330127104039597,
                    0.17101012525450748,
                    -0.17101005571575587,
                    -0.43301270046985235,
                    -0.49240384091599254,
                    -0.3213938547389884,
                    0.8137976658526589,
                    0.7544064956041965,
                    0.49240391045474424,
                    0.1503837294844809,
                    -0.11161891526961559,
                    -0.17101005571575578,
                    -6.953875164583678e-8,
                    0.925416571188167,
                    0.6634139860387148,
                    0.3213938050684515,
                    0.059391160314354985,
                    1.986821479560419e-8,
                    0.17101000604521893,
                    0.6040228157902525,
                    0.2620026348199891,
                    -9.934107370046519e-9,
                    -0.05939115038024756,
                    0.11161883579675658,
                    4.967053687798817e-8,
                    -0.2620025950835596,
                    -0.3213937355296998,
                    -0.15038374935269566,
                    -0.6634139164999632,
                    -0.49240393032295904,
                    -0.9254165612540597,
                    -0.7544065750770554,
                    -0.8137977155231957
                  ]
                },
                {
                  "hoverinfo": "none",
                  "line": {
                    "color": "#F00",
                    "width": 2
                  },
                  "mode": "lines",
                  "type": "scatter",
                  "x": [
                    1,
                    0.17364823012179612,
                    null,
                    0.17364823012179612,
                    -0.4999998981753994,
                    null,
                    -0.4999998981753994,
                    -0.939692600405112,
                    null,
                    -0.939692600405112,
                    -0.5000000471870102,
                    null,
                    -0.5000000471870102,
                    0.17364815561599076,
                    null,
                    0.17364815561599076,
                    -0.939692600405112,
                    null,
                    -0.939692600405112,
                    0.7660443206127789,
                    null
                  ],
                  "y": [
                    1.9868214760652724e-8,
                    0.9848077414366294,
                    null,
                    0.9848077414366294,
                    -0.8660254208079194,
                    null,
                    -0.8660254208079194,
                    -0.34202013129972647,
                    null,
                    -0.34202013129972647,
                    0.8660254009397047,
                    null,
                    0.8660254009397047,
                    -0.9848077017001998,
                    null,
                    -0.9848077017001998,
                    0.3420202306408002,
                    null,
                    0.3420202306408002,
                    -0.6427877293461915,
                    null
                  ]
                }
              ],
              "layout": {
                "annotations": [
                  {
                    "showarrow": false,
                    "text": "Traveling Salesman result : [(1, 3), (3, 7), (7, 6), (6, 4), (4, 8), (8, 5), (5, 9)], Length=168",
                    "x": 0.005,
                    "xref": "paper",
                    "y": -0.002,
                    "yref": "paper"
                  }
                ],
                "hovermode": "closest",
                "margin": {
                  "b": 20,
                  "l": 5,
                  "r": 5,
                  "t": 40
                },
                "showlegend": false,
                "template": {
                  "data": {
                    "bar": [
                      {
                        "error_x": {
                          "color": "#2a3f5f"
                        },
                        "error_y": {
                          "color": "#2a3f5f"
                        },
                        "marker": {
                          "line": {
                            "color": "#E5ECF6",
                            "width": 0.5
                          }
                        },
                        "type": "bar"
                      }
                    ],
                    "barpolar": [
                      {
                        "marker": {
                          "line": {
                            "color": "#E5ECF6",
                            "width": 0.5
                          }
                        },
                        "type": "barpolar"
                      }
                    ],
                    "carpet": [
                      {
                        "aaxis": {
                          "endlinecolor": "#2a3f5f",
                          "gridcolor": "white",
                          "linecolor": "white",
                          "minorgridcolor": "white",
                          "startlinecolor": "#2a3f5f"
                        },
                        "baxis": {
                          "endlinecolor": "#2a3f5f",
                          "gridcolor": "white",
                          "linecolor": "white",
                          "minorgridcolor": "white",
                          "startlinecolor": "#2a3f5f"
                        },
                        "type": "carpet"
                      }
                    ],
                    "choropleth": [
                      {
                        "colorbar": {
                          "outlinewidth": 0,
                          "ticks": ""
                        },
                        "type": "choropleth"
                      }
                    ],
                    "contour": [
                      {
                        "colorbar": {
                          "outlinewidth": 0,
                          "ticks": ""
                        },
                        "colorscale": [
                          [
                            0,
                            "#0d0887"
                          ],
                          [
                            0.1111111111111111,
                            "#46039f"
                          ],
                          [
                            0.2222222222222222,
                            "#7201a8"
                          ],
                          [
                            0.3333333333333333,
                            "#9c179e"
                          ],
                          [
                            0.4444444444444444,
                            "#bd3786"
                          ],
                          [
                            0.5555555555555556,
                            "#d8576b"
                          ],
                          [
                            0.6666666666666666,
                            "#ed7953"
                          ],
                          [
                            0.7777777777777778,
                            "#fb9f3a"
                          ],
                          [
                            0.8888888888888888,
                            "#fdca26"
                          ],
                          [
                            1,
                            "#f0f921"
                          ]
                        ],
                        "type": "contour"
                      }
                    ],
                    "contourcarpet": [
                      {
                        "colorbar": {
                          "outlinewidth": 0,
                          "ticks": ""
                        },
                        "type": "contourcarpet"
                      }
                    ],
                    "heatmap": [
                      {
                        "colorbar": {
                          "outlinewidth": 0,
                          "ticks": ""
                        },
                        "colorscale": [
                          [
                            0,
                            "#0d0887"
                          ],
                          [
                            0.1111111111111111,
                            "#46039f"
                          ],
                          [
                            0.2222222222222222,
                            "#7201a8"
                          ],
                          [
                            0.3333333333333333,
                            "#9c179e"
                          ],
                          [
                            0.4444444444444444,
                            "#bd3786"
                          ],
                          [
                            0.5555555555555556,
                            "#d8576b"
                          ],
                          [
                            0.6666666666666666,
                            "#ed7953"
                          ],
                          [
                            0.7777777777777778,
                            "#fb9f3a"
                          ],
                          [
                            0.8888888888888888,
                            "#fdca26"
                          ],
                          [
                            1,
                            "#f0f921"
                          ]
                        ],
                        "type": "heatmap"
                      }
                    ],
                    "heatmapgl": [
                      {
                        "colorbar": {
                          "outlinewidth": 0,
                          "ticks": ""
                        },
                        "colorscale": [
                          [
                            0,
                            "#0d0887"
                          ],
                          [
                            0.1111111111111111,
                            "#46039f"
                          ],
                          [
                            0.2222222222222222,
                            "#7201a8"
                          ],
                          [
                            0.3333333333333333,
                            "#9c179e"
                          ],
                          [
                            0.4444444444444444,
                            "#bd3786"
                          ],
                          [
                            0.5555555555555556,
                            "#d8576b"
                          ],
                          [
                            0.6666666666666666,
                            "#ed7953"
                          ],
                          [
                            0.7777777777777778,
                            "#fb9f3a"
                          ],
                          [
                            0.8888888888888888,
                            "#fdca26"
                          ],
                          [
                            1,
                            "#f0f921"
                          ]
                        ],
                        "type": "heatmapgl"
                      }
                    ],
                    "histogram": [
                      {
                        "marker": {
                          "colorbar": {
                            "outlinewidth": 0,
                            "ticks": ""
                          }
                        },
                        "type": "histogram"
                      }
                    ],
                    "histogram2d": [
                      {
                        "colorbar": {
                          "outlinewidth": 0,
                          "ticks": ""
                        },
                        "colorscale": [
                          [
                            0,
                            "#0d0887"
                          ],
                          [
                            0.1111111111111111,
                            "#46039f"
                          ],
                          [
                            0.2222222222222222,
                            "#7201a8"
                          ],
                          [
                            0.3333333333333333,
                            "#9c179e"
                          ],
                          [
                            0.4444444444444444,
                            "#bd3786"
                          ],
                          [
                            0.5555555555555556,
                            "#d8576b"
                          ],
                          [
                            0.6666666666666666,
                            "#ed7953"
                          ],
                          [
                            0.7777777777777778,
                            "#fb9f3a"
                          ],
                          [
                            0.8888888888888888,
                            "#fdca26"
                          ],
                          [
                            1,
                            "#f0f921"
                          ]
                        ],
                        "type": "histogram2d"
                      }
                    ],
                    "histogram2dcontour": [
                      {
                        "colorbar": {
                          "outlinewidth": 0,
                          "ticks": ""
                        },
                        "colorscale": [
                          [
                            0,
                            "#0d0887"
                          ],
                          [
                            0.1111111111111111,
                            "#46039f"
                          ],
                          [
                            0.2222222222222222,
                            "#7201a8"
                          ],
                          [
                            0.3333333333333333,
                            "#9c179e"
                          ],
                          [
                            0.4444444444444444,
                            "#bd3786"
                          ],
                          [
                            0.5555555555555556,
                            "#d8576b"
                          ],
                          [
                            0.6666666666666666,
                            "#ed7953"
                          ],
                          [
                            0.7777777777777778,
                            "#fb9f3a"
                          ],
                          [
                            0.8888888888888888,
                            "#fdca26"
                          ],
                          [
                            1,
                            "#f0f921"
                          ]
                        ],
                        "type": "histogram2dcontour"
                      }
                    ],
                    "mesh3d": [
                      {
                        "colorbar": {
                          "outlinewidth": 0,
                          "ticks": ""
                        },
                        "type": "mesh3d"
                      }
                    ],
                    "parcoords": [
                      {
                        "line": {
                          "colorbar": {
                            "outlinewidth": 0,
                            "ticks": ""
                          }
                        },
                        "type": "parcoords"
                      }
                    ],
                    "scatter": [
                      {
                        "marker": {
                          "colorbar": {
                            "outlinewidth": 0,
                            "ticks": ""
                          }
                        },
                        "type": "scatter"
                      }
                    ],
                    "scatter3d": [
                      {
                        "line": {
                          "colorbar": {
                            "outlinewidth": 0,
                            "ticks": ""
                          }
                        },
                        "marker": {
                          "colorbar": {
                            "outlinewidth": 0,
                            "ticks": ""
                          }
                        },
                        "type": "scatter3d"
                      }
                    ],
                    "scattercarpet": [
                      {
                        "marker": {
                          "colorbar": {
                            "outlinewidth": 0,
                            "ticks": ""
                          }
                        },
                        "type": "scattercarpet"
                      }
                    ],
                    "scattergeo": [
                      {
                        "marker": {
                          "colorbar": {
                            "outlinewidth": 0,
                            "ticks": ""
                          }
                        },
                        "type": "scattergeo"
                      }
                    ],
                    "scattergl": [
                      {
                        "marker": {
                          "colorbar": {
                            "outlinewidth": 0,
                            "ticks": ""
                          }
                        },
                        "type": "scattergl"
                      }
                    ],
                    "scattermapbox": [
                      {
                        "marker": {
                          "colorbar": {
                            "outlinewidth": 0,
                            "ticks": ""
                          }
                        },
                        "type": "scattermapbox"
                      }
                    ],
                    "scatterpolar": [
                      {
                        "marker": {
                          "colorbar": {
                            "outlinewidth": 0,
                            "ticks": ""
                          }
                        },
                        "type": "scatterpolar"
                      }
                    ],
                    "scatterpolargl": [
                      {
                        "marker": {
                          "colorbar": {
                            "outlinewidth": 0,
                            "ticks": ""
                          }
                        },
                        "type": "scatterpolargl"
                      }
                    ],
                    "scatterternary": [
                      {
                        "marker": {
                          "colorbar": {
                            "outlinewidth": 0,
                            "ticks": ""
                          }
                        },
                        "type": "scatterternary"
                      }
                    ],
                    "surface": [
                      {
                        "colorbar": {
                          "outlinewidth": 0,
                          "ticks": ""
                        },
                        "colorscale": [
                          [
                            0,
                            "#0d0887"
                          ],
                          [
                            0.1111111111111111,
                            "#46039f"
                          ],
                          [
                            0.2222222222222222,
                            "#7201a8"
                          ],
                          [
                            0.3333333333333333,
                            "#9c179e"
                          ],
                          [
                            0.4444444444444444,
                            "#bd3786"
                          ],
                          [
                            0.5555555555555556,
                            "#d8576b"
                          ],
                          [
                            0.6666666666666666,
                            "#ed7953"
                          ],
                          [
                            0.7777777777777778,
                            "#fb9f3a"
                          ],
                          [
                            0.8888888888888888,
                            "#fdca26"
                          ],
                          [
                            1,
                            "#f0f921"
                          ]
                        ],
                        "type": "surface"
                      }
                    ],
                    "table": [
                      {
                        "cells": {
                          "fill": {
                            "color": "#EBF0F8"
                          },
                          "line": {
                            "color": "white"
                          }
                        },
                        "header": {
                          "fill": {
                            "color": "#C8D4E3"
                          },
                          "line": {
                            "color": "white"
                          }
                        },
                        "type": "table"
                      }
                    ]
                  },
                  "layout": {
                    "annotationdefaults": {
                      "arrowcolor": "#2a3f5f",
                      "arrowhead": 0,
                      "arrowwidth": 1
                    },
                    "colorscale": {
                      "diverging": [
                        [
                          0,
                          "#8e0152"
                        ],
                        [
                          0.1,
                          "#c51b7d"
                        ],
                        [
                          0.2,
                          "#de77ae"
                        ],
                        [
                          0.3,
                          "#f1b6da"
                        ],
                        [
                          0.4,
                          "#fde0ef"
                        ],
                        [
                          0.5,
                          "#f7f7f7"
                        ],
                        [
                          0.6,
                          "#e6f5d0"
                        ],
                        [
                          0.7,
                          "#b8e186"
                        ],
                        [
                          0.8,
                          "#7fbc41"
                        ],
                        [
                          0.9,
                          "#4d9221"
                        ],
                        [
                          1,
                          "#276419"
                        ]
                      ],
                      "sequential": [
                        [
                          0,
                          "#0d0887"
                        ],
                        [
                          0.1111111111111111,
                          "#46039f"
                        ],
                        [
                          0.2222222222222222,
                          "#7201a8"
                        ],
                        [
                          0.3333333333333333,
                          "#9c179e"
                        ],
                        [
                          0.4444444444444444,
                          "#bd3786"
                        ],
                        [
                          0.5555555555555556,
                          "#d8576b"
                        ],
                        [
                          0.6666666666666666,
                          "#ed7953"
                        ],
                        [
                          0.7777777777777778,
                          "#fb9f3a"
                        ],
                        [
                          0.8888888888888888,
                          "#fdca26"
                        ],
                        [
                          1,
                          "#f0f921"
                        ]
                      ],
                      "sequentialminus": [
                        [
                          0,
                          "#0d0887"
                        ],
                        [
                          0.1111111111111111,
                          "#46039f"
                        ],
                        [
                          0.2222222222222222,
                          "#7201a8"
                        ],
                        [
                          0.3333333333333333,
                          "#9c179e"
                        ],
                        [
                          0.4444444444444444,
                          "#bd3786"
                        ],
                        [
                          0.5555555555555556,
                          "#d8576b"
                        ],
                        [
                          0.6666666666666666,
                          "#ed7953"
                        ],
                        [
                          0.7777777777777778,
                          "#fb9f3a"
                        ],
                        [
                          0.8888888888888888,
                          "#fdca26"
                        ],
                        [
                          1,
                          "#f0f921"
                        ]
                      ]
                    },
                    "colorway": [
                      "#636efa",
                      "#EF553B",
                      "#00cc96",
                      "#ab63fa",
                      "#FFA15A",
                      "#19d3f3",
                      "#FF6692",
                      "#B6E880",
                      "#FF97FF",
                      "#FECB52"
                    ],
                    "font": {
                      "color": "#2a3f5f"
                    },
                    "geo": {
                      "bgcolor": "white",
                      "lakecolor": "white",
                      "landcolor": "#E5ECF6",
                      "showlakes": true,
                      "showland": true,
                      "subunitcolor": "white"
                    },
                    "hoverlabel": {
                      "align": "left"
                    },
                    "hovermode": "closest",
                    "mapbox": {
                      "style": "light"
                    },
                    "paper_bgcolor": "white",
                    "plot_bgcolor": "#E5ECF6",
                    "polar": {
                      "angularaxis": {
                        "gridcolor": "white",
                        "linecolor": "white",
                        "ticks": ""
                      },
                      "bgcolor": "#E5ECF6",
                      "radialaxis": {
                        "gridcolor": "white",
                        "linecolor": "white",
                        "ticks": ""
                      }
                    },
                    "scene": {
                      "xaxis": {
                        "backgroundcolor": "#E5ECF6",
                        "gridcolor": "white",
                        "gridwidth": 2,
                        "linecolor": "white",
                        "showbackground": true,
                        "ticks": "",
                        "zerolinecolor": "white"
                      },
                      "yaxis": {
                        "backgroundcolor": "#E5ECF6",
                        "gridcolor": "white",
                        "gridwidth": 2,
                        "linecolor": "white",
                        "showbackground": true,
                        "ticks": "",
                        "zerolinecolor": "white"
                      },
                      "zaxis": {
                        "backgroundcolor": "#E5ECF6",
                        "gridcolor": "white",
                        "gridwidth": 2,
                        "linecolor": "white",
                        "showbackground": true,
                        "ticks": "",
                        "zerolinecolor": "white"
                      }
                    },
                    "shapedefaults": {
                      "line": {
                        "color": "#2a3f5f"
                      }
                    },
                    "ternary": {
                      "aaxis": {
                        "gridcolor": "white",
                        "linecolor": "white",
                        "ticks": ""
                      },
                      "baxis": {
                        "gridcolor": "white",
                        "linecolor": "white",
                        "ticks": ""
                      },
                      "bgcolor": "#E5ECF6",
                      "caxis": {
                        "gridcolor": "white",
                        "linecolor": "white",
                        "ticks": ""
                      }
                    },
                    "title": {
                      "x": 0.05
                    },
                    "xaxis": {
                      "automargin": true,
                      "gridcolor": "white",
                      "linecolor": "white",
                      "ticks": "",
                      "zerolinecolor": "white",
                      "zerolinewidth": 2
                    },
                    "yaxis": {
                      "automargin": true,
                      "gridcolor": "white",
                      "linecolor": "white",
                      "ticks": "",
                      "zerolinecolor": "white",
                      "zerolinewidth": 2
                    }
                  }
                },
                "title": {
                  "font": {
                    "size": 16
                  },
                  "text": "Traveling Salesman exact Solution"
                },
                "xaxis": {
                  "showgrid": false,
                  "showticklabels": false,
                  "zeroline": false
                },
                "yaxis": {
                  "showgrid": false,
                  "showticklabels": false,
                  "zeroline": false
                }
              }
            }
          },
          "metadata": {}
        }
      ],
      "execution_count": 124,
      "metadata": {
        "collapsed": false,
        "outputHidden": false,
        "inputHidden": false
      }
    },
    {
      "cell_type": "code",
      "source": [
        "way_trace"
      ],
      "outputs": [
        {
          "output_type": "execute_result",
          "execution_count": 98,
          "data": {
            "text/plain": [
              "Scatter({\n",
              "    'hoverinfo': 'none', 'line': {'color': '#F00', 'width': 2}, 'mode': 'lines', 'x': [], 'y': []\n",
              "})"
            ]
          },
          "metadata": {}
        }
      ],
      "execution_count": 98,
      "metadata": {
        "collapsed": false,
        "outputHidden": false,
        "inputHidden": false
      }
    },
    {
      "cell_type": "code",
      "source": [
        "class a:\n",
        "    kaka=\"ba\"\n",
        "    def __init__(self):\n",
        "        self.pipi=\"berk\"\n",
        "        \n",
        "v1=a()\n",
        "a.kaka=\"gg\"\n",
        "v2=a()\n",
        "\n",
        "print(v1.kaka)\n",
        "print(v2.kaka)\n",
        "print (a.kaka)"
      ],
      "outputs": [
        {
          "output_type": "stream",
          "name": "stdout",
          "text": [
            "gg\n",
            "gg\n",
            "gg\n"
          ]
        }
      ],
      "execution_count": 129,
      "metadata": {
        "collapsed": false,
        "outputHidden": false,
        "inputHidden": false
      }
    },
    {
      "cell_type": "code",
      "source": [
        "a=np.zeros(G1.shape)+0.001\n",
        "print(a)"
      ],
      "outputs": [
        {
          "output_type": "stream",
          "name": "stdout",
          "text": [
            "[[0.001 0.001 0.001 0.001 0.001 0.001 0.001 0.001 0.001]\n",
            " [0.001 0.001 0.001 0.001 0.001 0.001 0.001 0.001 0.001]\n",
            " [0.001 0.001 0.001 0.001 0.001 0.001 0.001 0.001 0.001]\n",
            " [0.001 0.001 0.001 0.001 0.001 0.001 0.001 0.001 0.001]\n",
            " [0.001 0.001 0.001 0.001 0.001 0.001 0.001 0.001 0.001]\n",
            " [0.001 0.001 0.001 0.001 0.001 0.001 0.001 0.001 0.001]\n",
            " [0.001 0.001 0.001 0.001 0.001 0.001 0.001 0.001 0.001]\n",
            " [0.001 0.001 0.001 0.001 0.001 0.001 0.001 0.001 0.001]\n",
            " [0.001 0.001 0.001 0.001 0.001 0.001 0.001 0.001 0.001]]\n"
          ]
        }
      ],
      "execution_count": 150,
      "metadata": {
        "collapsed": false,
        "outputHidden": false,
        "inputHidden": false
      }
    },
    {
      "cell_type": "code",
      "source": [
        "print(np.array([1,2])==np.array([1,1]))"
      ],
      "outputs": [
        {
          "output_type": "stream",
          "name": "stdout",
          "text": [
            "[ True False]\n"
          ]
        }
      ],
      "execution_count": 191,
      "metadata": {
        "collapsed": false,
        "outputHidden": false,
        "inputHidden": false
      }
    },
    {
      "cell_type": "code",
      "source": [
        "x= 1 if 0==1 else 2"
      ],
      "outputs": [],
      "execution_count": 198,
      "metadata": {
        "collapsed": false,
        "outputHidden": false,
        "inputHidden": false
      }
    },
    {
      "cell_type": "code",
      "source": [],
      "outputs": [
        {
          "output_type": "execute_result",
          "execution_count": 199,
          "data": {
            "text/plain": [
              "2"
            ]
          },
          "metadata": {}
        }
      ],
      "execution_count": 199,
      "metadata": {
        "collapsed": false,
        "outputHidden": false,
        "inputHidden": false
      }
    }
  ],
  "metadata": {
    "kernel_info": {
      "name": "python3"
    },
    "language_info": {
      "name": "python",
      "version": "3.6.8",
      "mimetype": "text/x-python",
      "codemirror_mode": {
        "name": "ipython",
        "version": 3
      },
      "pygments_lexer": "ipython3",
      "nbconvert_exporter": "python",
      "file_extension": ".py"
    },
    "kernelspec": {
      "name": "python3",
      "language": "python",
      "display_name": "Python 3"
    },
    "nteract": {
      "version": "0.15.0"
    }
  },
  "nbformat": 4,
  "nbformat_minor": 0
}